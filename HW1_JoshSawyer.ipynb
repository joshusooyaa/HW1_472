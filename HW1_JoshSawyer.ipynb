{
  "cells": [
    {
      "cell_type": "markdown",
      "id": "f891bc66",
      "metadata": {
        "cell_style": "split",
        "id": "f891bc66"
      },
      "source": [
        "\n",
        "\n",
        "```\n",
        "# This is formatted as code\n",
        "```\n",
        "\n",
        "# Part 1 - Linear Classifier\n",
        "\n"
      ]
    },
    {
      "cell_type": "code",
      "execution_count": null,
      "id": "0981472d",
      "metadata": {
        "cell_style": "split",
        "id": "0981472d",
        "vscode": {
          "languageId": "python"
        }
      },
      "outputs": [
        {
          "ename": "",
          "evalue": "",
          "output_type": "error",
          "traceback": [
            "\u001b[1;31mFailed to start the Kernel. \n",
            "\u001b[1;31mView Jupyter <a href='command:jupyter.viewOutput'>log</a> for further details."
          ]
        }
      ],
      "source": [
        "from torch import nn\n",
        "\n",
        "class Classifier(nn.Module):\n",
        "    def __init__(self,\n",
        "                 ninputs=3*32*32, # Size of input (channels * size of image)\n",
        "                 nhidden=512, # Number of hidden layers\n",
        "                 nout=10, # Number of classes\n",
        "                ):\n",
        "        super().__init__()\n",
        "        self.net = nn.Sequential(\n",
        "            nn.Linear(ninputs, nhidden),\n",
        "            nn.ReLU(),\n",
        "            nn.Linear(nhidden, nhidden),\n",
        "            nn.ReLU(),\n",
        "            nn.Linear(nhidden, nout),\n",
        "            nn.ReLU(),\n",
        "        )\n",
        "        \n",
        "    def forward(self, x):\n",
        "        b, c, h, w = x.shape\n",
        "        x = x.view(b, -1) # Flatten image -- 3 * 32 * 32\n",
        "        x = self.net(x)\n",
        "        return x"
      ]
    },
    {
      "cell_type": "code",
      "execution_count": null,
      "id": "9d9a573e",
      "metadata": {
        "id": "9d9a573e",
        "vscode": {
          "languageId": "python"
        }
      },
      "outputs": [
        {
          "ename": "",
          "evalue": "",
          "output_type": "error",
          "traceback": [
            "\u001b[1;31mFailed to start the Kernel. \n",
            "\u001b[1;31mView Jupyter <a href='command:jupyter.viewOutput'>log</a> for further details."
          ]
        }
      ],
      "source": [
        "class resnet(nn.Module):\n",
        "    def __init__(self):\n",
        "        super().__init__()\n",
        "        self.l1 = nn.Sequntial(nn.Linear(10,10), nn.ReLU())\n",
        "        self.l2 = nn.Sequntial(nn.Linear(10, 10), nn.ReLU())\n",
        "        \n",
        "    def forward(self, x):\n",
        "        skip = x\n",
        "        x = self.l1(x)\n",
        "        x = skip + x\n",
        "        x = self.l2(x)\n",
        "        return x"
      ]
    },
    {
      "cell_type": "code",
      "execution_count": null,
      "id": "3a94cec8",
      "metadata": {
        "id": "3a94cec8",
        "vscode": {
          "languageId": "python"
        }
      },
      "outputs": [
        {
          "ename": "",
          "evalue": "",
          "output_type": "error",
          "traceback": [
            "\u001b[1;31mFailed to start the Kernel. \n",
            "\u001b[1;31mView Jupyter <a href='command:jupyter.viewOutput'>log</a> for further details."
          ]
        }
      ],
      "source": []
    },
    {
      "cell_type": "markdown",
      "id": "cb5ece06",
      "metadata": {
        "id": "cb5ece06"
      },
      "source": [
        "# Setup the training program\n",
        "Now we need to get the meat of the subject and get the parts we need to train the network."
      ]
    },
    {
      "cell_type": "code",
      "execution_count": null,
      "id": "e05614e9",
      "metadata": {
        "colab": {
          "base_uri": "https://localhost:8080/",
          "height": 381
        },
        "id": "e05614e9",
        "outputId": "3535ef1b-8cf7-488a-b810-9f9819bcd023",
        "vscode": {
          "languageId": "python"
        }
      },
      "outputs": [
        {
          "ename": "",
          "evalue": "",
          "output_type": "error",
          "traceback": [
            "\u001b[1;31mFailed to start the Kernel. \n",
            "\u001b[1;31mView Jupyter <a href='command:jupyter.viewOutput'>log</a> for further details."
          ]
        }
      ],
      "source": [
        "import torch\n",
        "from torchvision import datasets\n",
        "from torch import nn\n",
        "from torch import optim\n",
        "from tqdm import tqdm, notebook # This is optional but useful\n",
        "from torch.utils.data import DataLoader\n",
        "\n",
        "# Let's get the right torch device (preference of GPU)\n",
        "device = torch.device(\"cuda\" if torch.cuda.is_available() else \"cpu\")\n",
        "# Let's set up some parameters\n",
        "learning_rate=5e-1\n",
        "nepochs = 10\n",
        "ninputs=3*32*32\n",
        "nhidden=1024\n",
        "nout=10\n",
        "\n",
        "model = Classifier(ninputs=ninputs,\n",
        "                  nhidden=nhidden,\n",
        "                  nout=nout).to(device)\n",
        "print(model)\n",
        "# We need an optimizer that tells us what form of gradient descent to do\n",
        "optimizer = optim.SGD(model.parameters(), lr=learning_rate)\n",
        "\n",
        "# We also need a loss function\n",
        "LossFunction = nn.CrossEntropyLoss()\n",
        "\n",
        "# We're going to reload the data here so we have added clarity\n",
        "\n",
        "batch_size = 2048\n",
        "\n",
        "cifar10_dataset = datasets.CIFAR10(root='./', # here\n",
        "                               train=True, # train split\n",
        "                               download=True, # we want to get the data\n",
        "                               transform=T.ToTensor(), # put it into tensor format\n",
        "                              )\n",
        "\n",
        "train_data = DataLoader(cifar10_dataset,\n",
        "                            batch_size=batch_size,\n",
        "                            )\n",
        "\n",
        "# This is default on but let's just be pedantic\n",
        "model.train()\n",
        "loss_history = []\n",
        "loss = torch.Tensor([0])\n",
        "for epoch in notebook.trange(nepochs,\n",
        "                  desc=f\"Epoch\",\n",
        "                  unit=\"epoch\",\n",
        "                  disable=False):\n",
        "    for (data, label) in tqdm(train_data,\n",
        "                              desc=\"iteration\",\n",
        "                              unit=\"%\",\n",
        "                              disable=True):\n",
        "        optimizer.zero_grad(set_to_none=True) # Here we clear the gradients\n",
        "        \n",
        "        # We need to make sure the tensors are on the same device as our model\n",
        "        data = data.to(device)\n",
        "        label = label.to(device)\n",
        "        out = model(data)\n",
        "        \n",
        "        loss = LossFunction(out, label)\n",
        "        \n",
        "        # PyTorch is Magic!\n",
        "        loss.backward() # This function calculates all our gradients\n",
        "        optimizer.step() # This function does our gradient descent with those gradients\n",
        "        loss_history.append(loss.item())\n",
        "    print(f\"Epoch {epoch}: loss: {loss.item()}\")\n"
      ]
    },
    {
      "cell_type": "code",
      "execution_count": null,
      "id": "73521f93",
      "metadata": {
        "cell_style": "center",
        "colab": {
          "base_uri": "https://localhost:8080/",
          "height": 295
        },
        "id": "73521f93",
        "outputId": "fdda12a2-b920-43d3-b749-5208cc7fc47a",
        "vscode": {
          "languageId": "python"
        }
      },
      "outputs": [
        {
          "ename": "",
          "evalue": "",
          "output_type": "error",
          "traceback": [
            "\u001b[1;31mFailed to start the Kernel. \n",
            "\u001b[1;31mView Jupyter <a href='command:jupyter.viewOutput'>log</a> for further details."
          ]
        }
      ],
      "source": [
        "# Note that we are not plotting loss per epoch but per iteration\n",
        "plt.plot(loss_history)\n",
        "plt.title(\"Neural Network Loss\")\n",
        "plt.xlabel(\"Number of iterations\")\n",
        "plt.ylabel(\"Loss\")\n",
        "plt.show()"
      ]
    },
    {
      "cell_type": "markdown",
      "id": "f4866610",
      "metadata": {
        "id": "f4866610"
      },
      "source": [
        "# Testing\n",
        "Now lets' see how well our network learned\n",
        "\n"
      ]
    },
    {
      "cell_type": "code",
      "execution_count": null,
      "id": "8cfbdc42",
      "metadata": {
        "colab": {
          "base_uri": "https://localhost:8080/",
          "height": 253
        },
        "id": "8cfbdc42",
        "outputId": "cbfd891f-cb75-4f98-b0b8-b4ed4c934953",
        "vscode": {
          "languageId": "python"
        }
      },
      "outputs": [
        {
          "ename": "",
          "evalue": "",
          "output_type": "error",
          "traceback": [
            "\u001b[1;31mFailed to start the Kernel. \n",
            "\u001b[1;31mView Jupyter <a href='command:jupyter.viewOutput'>log</a> for further details."
          ]
        }
      ],
      "source": [
        "# We need to do the test data now\n",
        "mnist_test_dataset = datasets.CIFAR10(root='./', # here\n",
        "                               train=False, # train split\n",
        "                               download=True, # we want to get the data\n",
        "                               transform=T.ToTensor(), # put it into tensor format\n",
        "                              )\n",
        "test_data = DataLoader(mnist_test_dataset,\n",
        "                       batch_size=batch_size,\n",
        "                        )\n",
        "\n",
        "model.eval()\n",
        "accuracy = 0\n",
        "for (data, label) in test_data:\n",
        "    data = data.to(device)\n",
        "    label = label.to(device)\n",
        "    out = model(data)\n",
        "    answers = out.max(dim=1)[1]\n",
        "    accuracy += (answers == label).sum()\n",
        "print(f\"Total accuracy = {accuracy / len(mnist_test_dataset)*100:.2f}%\")"
      ]
    },
    {
      "cell_type": "markdown",
      "id": "2bd20335",
      "metadata": {
        "id": "2bd20335"
      },
      "source": [
        "# Summary\n",
        "You should play around with the above network and test different hyper parameters. Does the accuracy change? \n",
        "\n",
        "Try to answer the following questions:\n",
        "- How does Learning Rate change the accuracy?\n",
        "- How does batch size change things?\n",
        "- How many hidden layers do we need?\n",
        "- What happens if we use a different loss function?\n",
        "- What about a different optimizer?\n",
        "- Do we need to train longer?"
      ]
    },
    {
      "cell_type": "markdown",
      "id": "9091b8fc",
      "metadata": {
        "id": "9091b8fc"
      },
      "source": [
        "# Getting more advanced\n",
        "Let's get a bit more advanced with our network. This time we will design our network to take a variable number of hidden layers. We'll be able to add more depth to the network and define how many hidden layers are in that layer."
      ]
    },
    {
      "cell_type": "code",
      "execution_count": null,
      "id": "d19a3814",
      "metadata": {
        "id": "d19a3814",
        "vscode": {
          "languageId": "python"
        }
      },
      "outputs": [
        {
          "ename": "",
          "evalue": "",
          "output_type": "error",
          "traceback": [
            "\u001b[1;31mFailed to start the Kernel. \n",
            "\u001b[1;31mView Jupyter <a href='command:jupyter.viewOutput'>log</a> for further details."
          ]
        }
      ],
      "source": [
        "class LinearNet(nn.Module):\n",
        "    def __init__(self,\n",
        "                 ninputs=3*32*32,\n",
        "                 hidden=[512],\n",
        "                 nout=10,\n",
        "                ):\n",
        "        super().__init__()\n",
        "        net = []\n",
        "        # Input layer\n",
        "        net.append(nn.Linear(ninputs, hidden[0]))\n",
        "        net.append(nn.ReLU())\n",
        "        \n",
        "        # Hidden layers\n",
        "        \"\"\"if len(hidden) > 1:\n",
        "            for i in range(len(hidden)):\n",
        "                if i == 0:\n",
        "                    net.append(nn.Linear(hidden[i], hidden[i+1]))\n",
        "                else:\n",
        "                    net.append(nn.Linear(hidden[i-1], hidden[i]))\n",
        "                net.append(nn.ReLU())\"\"\"\n",
        "        if len(hidden) > 1:\n",
        "          for i in range(len(hidden) - 1):\n",
        "            net.append(nn.Linear(hidden[i], hidden[i+1]))\n",
        "            net.append(nn.ReLU())\n",
        "\n",
        "        # Output Layer\n",
        "        net.append(nn.Linear(hidden[-1], nout))\n",
        "        net.append(nn.ReLU())\n",
        "        self.net = nn.Sequential(*net)\n",
        "        \n",
        "    def forward(self, x):\n",
        "        b, c, h, w = x.shape\n",
        "        x = x.view(b, -1) # Flatten image\n",
        "        x = self.net(x)\n",
        "        return x"
      ]
    },
    {
      "cell_type": "code",
      "execution_count": null,
      "id": "c08d681d",
      "metadata": {
        "colab": {
          "base_uri": "https://localhost:8080/",
          "height": 632,
          "referenced_widgets": [
            "71f4626449d34a888e00deb4342771ca",
            "68307679ad3143bd9bb080f0c720163c",
            "b755f4d129db4939b84d3ea9f4fcb77c",
            "531ae91f96a94d4dbf271964352559ca",
            "c7147699e71e4245bfdc92775d0a6c62",
            "34f53fff8ef748ff85321533f5fea4f2",
            "4157a964016149d0a1a8b2482842620c",
            "48ce3f2106e44305a6c50146be8b8909",
            "e252684107514f218f506fa502e88421",
            "6534fb58b8b2473d974e69a5d09383da",
            "6730b6bfde054ea7896369fbe7f117a7"
          ]
        },
        "id": "c08d681d",
        "outputId": "f610eaef-ce00-4841-de50-43d7c22898e3",
        "vscode": {
          "languageId": "python"
        }
      },
      "outputs": [
        {
          "ename": "",
          "evalue": "",
          "output_type": "error",
          "traceback": [
            "\u001b[1;31mFailed to start the Kernel. \n",
            "\u001b[1;31mView Jupyter <a href='command:jupyter.viewOutput'>log</a> for further details."
          ]
        }
      ],
      "source": [
        "# Let's set up some parameters\n",
        "learning_rate=5e-1\n",
        "nepochs = 10\n",
        "ninputs=3*32*32\n",
        "hidden=[5000, 10000]\n",
        "nout=10\n",
        "\n",
        "model = LinearNet(ninputs=ninputs,\n",
        "                  hidden=hidden,\n",
        "                  nout=nout).to(device)\n",
        "print(model)\n",
        "# We need an optimizer that tells us what form of gradient descent to do\n",
        "optimizer = optim.SGD(model.parameters(), lr=learning_rate)\n",
        "\n",
        "# We also need a loss function\n",
        "LossFunction = nn.CrossEntropyLoss()\n",
        "\n",
        "# We're going to reload the data here so we have added clarity\n",
        "\n",
        "batch_size = 2048\n",
        "\n",
        "cifar10_dataset = datasets.CIFAR10(root='./', # here\n",
        "                               train=True, # train split\n",
        "                               download=True, # we want to get the data\n",
        "                               transform=T.ToTensor(), # put it into tensor format\n",
        "                              )\n",
        "\n",
        "train_data = DataLoader(cifar10_dataset,\n",
        "                        batch_size=batch_size,\n",
        "                        )\n",
        "\n",
        "# This is default on but let's just be pedantic\n",
        "model.train()\n",
        "loss_history = []\n",
        "for epoch in notebook.trange(nepochs,\n",
        "                  desc=\"Epoch\",\n",
        "                  unit=\"epoch\",\n",
        "                  disable=False):\n",
        "    for (data, label) in tqdm(train_data,\n",
        "                              desc=\"iteration\",\n",
        "                              unit=\"%\",\n",
        "                              disable=True):\n",
        "        optimizer.zero_grad(set_to_none=True)\n",
        "        data = data.to(device)\n",
        "        label = label.to(device)\n",
        "        out = model(data)\n",
        "        loss = LossFunction(out, label)\n",
        "        loss.backward()\n",
        "        optimizer.step()\n",
        "        loss_history.append(loss.item())\n",
        "    print(f\"Epoch {epoch}: loss: {loss.item()}\")\n",
        "    \n",
        "# Note that we are not plotting loss per epoch but per iteration\n",
        "plt.plot(loss_history)\n",
        "plt.title(\"Neural Network Loss\")\n",
        "plt.xlabel(\"Number of iterations\")\n",
        "plt.ylabel(\"Loss\")\n",
        "plt.show()"
      ]
    },
    {
      "cell_type": "code",
      "execution_count": null,
      "id": "ee569a3b",
      "metadata": {
        "id": "ee569a3b",
        "vscode": {
          "languageId": "python"
        }
      },
      "outputs": [
        {
          "ename": "",
          "evalue": "",
          "output_type": "error",
          "traceback": [
            "\u001b[1;31mFailed to start the Kernel. \n",
            "\u001b[1;31mView Jupyter <a href='command:jupyter.viewOutput'>log</a> for further details."
          ]
        }
      ],
      "source": [
        "model.eval()\n",
        "accuracy = 0\n",
        "for (data, label) in test_data:\n",
        "    data = data.to(device)\n",
        "    label = label.to(device)\n",
        "    out = model(data)\n",
        "    answers = out.max(dim=1)[1]\n",
        "    accuracy += (answers == label).sum()\n",
        "print(f\"Total accuracy = {accuracy / len(mnist_test_dataset)*100:.2f}%\")"
      ]
    },
    {
      "cell_type": "markdown",
      "id": "e3af419f",
      "metadata": {
        "id": "e3af419f"
      },
      "source": [
        "# Getting More Out of PyTorch"
      ]
    },
    {
      "cell_type": "code",
      "execution_count": null,
      "id": "b27e37f9",
      "metadata": {
        "id": "b27e37f9",
        "vscode": {
          "languageId": "python"
        }
      },
      "outputs": [
        {
          "ename": "",
          "evalue": "",
          "output_type": "error",
          "traceback": [
            "\u001b[1;31mFailed to start the Kernel. \n",
            "\u001b[1;31mView Jupyter <a href='command:jupyter.viewOutput'>log</a> for further details."
          ]
        }
      ],
      "source": [
        "# Let's see what datasets are offered (https://pytorch.org/vision/stable/datasets.html)\n",
        "print(datasets.__dir__())"
      ]
    },
    {
      "cell_type": "code",
      "execution_count": null,
      "id": "0235544b",
      "metadata": {
        "id": "0235544b",
        "outputId": "7046776a-011b-48a1-c0a8-db74d496ceaf",
        "vscode": {
          "languageId": "python"
        }
      },
      "outputs": [
        {
          "ename": "",
          "evalue": "",
          "output_type": "error",
          "traceback": [
            "\u001b[1;31mFailed to start the Kernel. \n",
            "\u001b[1;31mView Jupyter <a href='command:jupyter.viewOutput'>log</a> for further details."
          ]
        }
      ],
      "source": [
        "# What about optimizers?\n",
        "print(optim.__dir__())"
      ]
    },
    {
      "cell_type": "code",
      "execution_count": null,
      "id": "c2364f31",
      "metadata": {
        "id": "c2364f31",
        "vscode": {
          "languageId": "python"
        }
      },
      "outputs": [
        {
          "ename": "",
          "evalue": "",
          "output_type": "error",
          "traceback": [
            "\u001b[1;31mFailed to start the Kernel. \n",
            "\u001b[1;31mView Jupyter <a href='command:jupyter.viewOutput'>log</a> for further details."
          ]
        }
      ],
      "source": []
    }
  ],
  "metadata": {
    "accelerator": "GPU",
    "colab": {
      "provenance": []
    },
    "gpuClass": "standard",
    "kernelspec": {
      "display_name": "Python 3 (ipykernel)",
      "language": "python",
      "name": "python3"
    },
    "widgets": {
      "application/vnd.jupyter.widget-state+json": {
        "011ff0a24a274be7b7d36d464b7891ac": {
          "model_module": "@jupyter-widgets/controls",
          "model_module_version": "1.5.0",
          "model_name": "DescriptionStyleModel",
          "state": {
            "_model_module": "@jupyter-widgets/controls",
            "_model_module_version": "1.5.0",
            "_model_name": "DescriptionStyleModel",
            "_view_count": null,
            "_view_module": "@jupyter-widgets/base",
            "_view_module_version": "1.2.0",
            "_view_name": "StyleView",
            "description_width": ""
          }
        },
        "34f53fff8ef748ff85321533f5fea4f2": {
          "model_module": "@jupyter-widgets/base",
          "model_module_version": "1.2.0",
          "model_name": "LayoutModel",
          "state": {
            "_model_module": "@jupyter-widgets/base",
            "_model_module_version": "1.2.0",
            "_model_name": "LayoutModel",
            "_view_count": null,
            "_view_module": "@jupyter-widgets/base",
            "_view_module_version": "1.2.0",
            "_view_name": "LayoutView",
            "align_content": null,
            "align_items": null,
            "align_self": null,
            "border": null,
            "bottom": null,
            "display": null,
            "flex": null,
            "flex_flow": null,
            "grid_area": null,
            "grid_auto_columns": null,
            "grid_auto_flow": null,
            "grid_auto_rows": null,
            "grid_column": null,
            "grid_gap": null,
            "grid_row": null,
            "grid_template_areas": null,
            "grid_template_columns": null,
            "grid_template_rows": null,
            "height": null,
            "justify_content": null,
            "justify_items": null,
            "left": null,
            "margin": null,
            "max_height": null,
            "max_width": null,
            "min_height": null,
            "min_width": null,
            "object_fit": null,
            "object_position": null,
            "order": null,
            "overflow": null,
            "overflow_x": null,
            "overflow_y": null,
            "padding": null,
            "right": null,
            "top": null,
            "visibility": null,
            "width": null
          }
        },
        "3703d333684a4765993244d0bfafc422": {
          "model_module": "@jupyter-widgets/controls",
          "model_module_version": "1.5.0",
          "model_name": "DescriptionStyleModel",
          "state": {
            "_model_module": "@jupyter-widgets/controls",
            "_model_module_version": "1.5.0",
            "_model_name": "DescriptionStyleModel",
            "_view_count": null,
            "_view_module": "@jupyter-widgets/base",
            "_view_module_version": "1.2.0",
            "_view_name": "StyleView",
            "description_width": ""
          }
        },
        "3f79dc91865a4da2baa3c4b24994f39c": {
          "model_module": "@jupyter-widgets/base",
          "model_module_version": "1.2.0",
          "model_name": "LayoutModel",
          "state": {
            "_model_module": "@jupyter-widgets/base",
            "_model_module_version": "1.2.0",
            "_model_name": "LayoutModel",
            "_view_count": null,
            "_view_module": "@jupyter-widgets/base",
            "_view_module_version": "1.2.0",
            "_view_name": "LayoutView",
            "align_content": null,
            "align_items": null,
            "align_self": null,
            "border": null,
            "bottom": null,
            "display": null,
            "flex": null,
            "flex_flow": null,
            "grid_area": null,
            "grid_auto_columns": null,
            "grid_auto_flow": null,
            "grid_auto_rows": null,
            "grid_column": null,
            "grid_gap": null,
            "grid_row": null,
            "grid_template_areas": null,
            "grid_template_columns": null,
            "grid_template_rows": null,
            "height": null,
            "justify_content": null,
            "justify_items": null,
            "left": null,
            "margin": null,
            "max_height": null,
            "max_width": null,
            "min_height": null,
            "min_width": null,
            "object_fit": null,
            "object_position": null,
            "order": null,
            "overflow": null,
            "overflow_x": null,
            "overflow_y": null,
            "padding": null,
            "right": null,
            "top": null,
            "visibility": null,
            "width": null
          }
        },
        "4157a964016149d0a1a8b2482842620c": {
          "model_module": "@jupyter-widgets/controls",
          "model_module_version": "1.5.0",
          "model_name": "DescriptionStyleModel",
          "state": {
            "_model_module": "@jupyter-widgets/controls",
            "_model_module_version": "1.5.0",
            "_model_name": "DescriptionStyleModel",
            "_view_count": null,
            "_view_module": "@jupyter-widgets/base",
            "_view_module_version": "1.2.0",
            "_view_name": "StyleView",
            "description_width": ""
          }
        },
        "48ce3f2106e44305a6c50146be8b8909": {
          "model_module": "@jupyter-widgets/base",
          "model_module_version": "1.2.0",
          "model_name": "LayoutModel",
          "state": {
            "_model_module": "@jupyter-widgets/base",
            "_model_module_version": "1.2.0",
            "_model_name": "LayoutModel",
            "_view_count": null,
            "_view_module": "@jupyter-widgets/base",
            "_view_module_version": "1.2.0",
            "_view_name": "LayoutView",
            "align_content": null,
            "align_items": null,
            "align_self": null,
            "border": null,
            "bottom": null,
            "display": null,
            "flex": null,
            "flex_flow": null,
            "grid_area": null,
            "grid_auto_columns": null,
            "grid_auto_flow": null,
            "grid_auto_rows": null,
            "grid_column": null,
            "grid_gap": null,
            "grid_row": null,
            "grid_template_areas": null,
            "grid_template_columns": null,
            "grid_template_rows": null,
            "height": null,
            "justify_content": null,
            "justify_items": null,
            "left": null,
            "margin": null,
            "max_height": null,
            "max_width": null,
            "min_height": null,
            "min_width": null,
            "object_fit": null,
            "object_position": null,
            "order": null,
            "overflow": null,
            "overflow_x": null,
            "overflow_y": null,
            "padding": null,
            "right": null,
            "top": null,
            "visibility": null,
            "width": null
          }
        },
        "531ae91f96a94d4dbf271964352559ca": {
          "model_module": "@jupyter-widgets/controls",
          "model_module_version": "1.5.0",
          "model_name": "HTMLModel",
          "state": {
            "_dom_classes": [],
            "_model_module": "@jupyter-widgets/controls",
            "_model_module_version": "1.5.0",
            "_model_name": "HTMLModel",
            "_view_count": null,
            "_view_module": "@jupyter-widgets/controls",
            "_view_module_version": "1.5.0",
            "_view_name": "HTMLView",
            "description": "",
            "description_tooltip": null,
            "layout": "IPY_MODEL_6534fb58b8b2473d974e69a5d09383da",
            "placeholder": "​",
            "style": "IPY_MODEL_6730b6bfde054ea7896369fbe7f117a7",
            "value": " 10/10 [01:48&lt;00:00, 10.55s/epoch]"
          }
        },
        "6534fb58b8b2473d974e69a5d09383da": {
          "model_module": "@jupyter-widgets/base",
          "model_module_version": "1.2.0",
          "model_name": "LayoutModel",
          "state": {
            "_model_module": "@jupyter-widgets/base",
            "_model_module_version": "1.2.0",
            "_model_name": "LayoutModel",
            "_view_count": null,
            "_view_module": "@jupyter-widgets/base",
            "_view_module_version": "1.2.0",
            "_view_name": "LayoutView",
            "align_content": null,
            "align_items": null,
            "align_self": null,
            "border": null,
            "bottom": null,
            "display": null,
            "flex": null,
            "flex_flow": null,
            "grid_area": null,
            "grid_auto_columns": null,
            "grid_auto_flow": null,
            "grid_auto_rows": null,
            "grid_column": null,
            "grid_gap": null,
            "grid_row": null,
            "grid_template_areas": null,
            "grid_template_columns": null,
            "grid_template_rows": null,
            "height": null,
            "justify_content": null,
            "justify_items": null,
            "left": null,
            "margin": null,
            "max_height": null,
            "max_width": null,
            "min_height": null,
            "min_width": null,
            "object_fit": null,
            "object_position": null,
            "order": null,
            "overflow": null,
            "overflow_x": null,
            "overflow_y": null,
            "padding": null,
            "right": null,
            "top": null,
            "visibility": null,
            "width": null
          }
        },
        "6730b6bfde054ea7896369fbe7f117a7": {
          "model_module": "@jupyter-widgets/controls",
          "model_module_version": "1.5.0",
          "model_name": "DescriptionStyleModel",
          "state": {
            "_model_module": "@jupyter-widgets/controls",
            "_model_module_version": "1.5.0",
            "_model_name": "DescriptionStyleModel",
            "_view_count": null,
            "_view_module": "@jupyter-widgets/base",
            "_view_module_version": "1.2.0",
            "_view_name": "StyleView",
            "description_width": ""
          }
        },
        "6799835f69fd488ea873ff28527515ec": {
          "model_module": "@jupyter-widgets/controls",
          "model_module_version": "1.5.0",
          "model_name": "HTMLModel",
          "state": {
            "_dom_classes": [],
            "_model_module": "@jupyter-widgets/controls",
            "_model_module_version": "1.5.0",
            "_model_name": "HTMLModel",
            "_view_count": null,
            "_view_module": "@jupyter-widgets/controls",
            "_view_module_version": "1.5.0",
            "_view_name": "HTMLView",
            "description": "",
            "description_tooltip": null,
            "layout": "IPY_MODEL_b7f60a20804947038f72179dd4da6cd5",
            "placeholder": "​",
            "style": "IPY_MODEL_3703d333684a4765993244d0bfafc422",
            "value": "100%"
          }
        },
        "68307679ad3143bd9bb080f0c720163c": {
          "model_module": "@jupyter-widgets/controls",
          "model_module_version": "1.5.0",
          "model_name": "HTMLModel",
          "state": {
            "_dom_classes": [],
            "_model_module": "@jupyter-widgets/controls",
            "_model_module_version": "1.5.0",
            "_model_name": "HTMLModel",
            "_view_count": null,
            "_view_module": "@jupyter-widgets/controls",
            "_view_module_version": "1.5.0",
            "_view_name": "HTMLView",
            "description": "",
            "description_tooltip": null,
            "layout": "IPY_MODEL_34f53fff8ef748ff85321533f5fea4f2",
            "placeholder": "​",
            "style": "IPY_MODEL_4157a964016149d0a1a8b2482842620c",
            "value": "Epoch: 100%"
          }
        },
        "71f4626449d34a888e00deb4342771ca": {
          "model_module": "@jupyter-widgets/controls",
          "model_module_version": "1.5.0",
          "model_name": "HBoxModel",
          "state": {
            "_dom_classes": [],
            "_model_module": "@jupyter-widgets/controls",
            "_model_module_version": "1.5.0",
            "_model_name": "HBoxModel",
            "_view_count": null,
            "_view_module": "@jupyter-widgets/controls",
            "_view_module_version": "1.5.0",
            "_view_name": "HBoxView",
            "box_style": "",
            "children": [
              "IPY_MODEL_68307679ad3143bd9bb080f0c720163c",
              "IPY_MODEL_b755f4d129db4939b84d3ea9f4fcb77c",
              "IPY_MODEL_531ae91f96a94d4dbf271964352559ca"
            ],
            "layout": "IPY_MODEL_c7147699e71e4245bfdc92775d0a6c62"
          }
        },
        "8742d639d8bc4d408b772f0674e9ed71": {
          "model_module": "@jupyter-widgets/controls",
          "model_module_version": "1.5.0",
          "model_name": "HBoxModel",
          "state": {
            "_dom_classes": [],
            "_model_module": "@jupyter-widgets/controls",
            "_model_module_version": "1.5.0",
            "_model_name": "HBoxModel",
            "_view_count": null,
            "_view_module": "@jupyter-widgets/controls",
            "_view_module_version": "1.5.0",
            "_view_name": "HBoxView",
            "box_style": "",
            "children": [
              "IPY_MODEL_6799835f69fd488ea873ff28527515ec",
              "IPY_MODEL_d8fb42cd4cff492d940a5c8e7b390beb",
              "IPY_MODEL_a201a5533eba4ef38a62cbd8524adde4"
            ],
            "layout": "IPY_MODEL_3f79dc91865a4da2baa3c4b24994f39c"
          }
        },
        "a201a5533eba4ef38a62cbd8524adde4": {
          "model_module": "@jupyter-widgets/controls",
          "model_module_version": "1.5.0",
          "model_name": "HTMLModel",
          "state": {
            "_dom_classes": [],
            "_model_module": "@jupyter-widgets/controls",
            "_model_module_version": "1.5.0",
            "_model_name": "HTMLModel",
            "_view_count": null,
            "_view_module": "@jupyter-widgets/controls",
            "_view_module_version": "1.5.0",
            "_view_name": "HTMLView",
            "description": "",
            "description_tooltip": null,
            "layout": "IPY_MODEL_d5fe2b4cc7c84747931fa3a0e42e0cb8",
            "placeholder": "​",
            "style": "IPY_MODEL_011ff0a24a274be7b7d36d464b7891ac",
            "value": " 170498071/170498071 [00:13&lt;00:00, 14822477.45it/s]"
          }
        },
        "a8d27ef156c643e4a2399d9391eefbee": {
          "model_module": "@jupyter-widgets/base",
          "model_module_version": "1.2.0",
          "model_name": "LayoutModel",
          "state": {
            "_model_module": "@jupyter-widgets/base",
            "_model_module_version": "1.2.0",
            "_model_name": "LayoutModel",
            "_view_count": null,
            "_view_module": "@jupyter-widgets/base",
            "_view_module_version": "1.2.0",
            "_view_name": "LayoutView",
            "align_content": null,
            "align_items": null,
            "align_self": null,
            "border": null,
            "bottom": null,
            "display": null,
            "flex": null,
            "flex_flow": null,
            "grid_area": null,
            "grid_auto_columns": null,
            "grid_auto_flow": null,
            "grid_auto_rows": null,
            "grid_column": null,
            "grid_gap": null,
            "grid_row": null,
            "grid_template_areas": null,
            "grid_template_columns": null,
            "grid_template_rows": null,
            "height": null,
            "justify_content": null,
            "justify_items": null,
            "left": null,
            "margin": null,
            "max_height": null,
            "max_width": null,
            "min_height": null,
            "min_width": null,
            "object_fit": null,
            "object_position": null,
            "order": null,
            "overflow": null,
            "overflow_x": null,
            "overflow_y": null,
            "padding": null,
            "right": null,
            "top": null,
            "visibility": null,
            "width": null
          }
        },
        "b755f4d129db4939b84d3ea9f4fcb77c": {
          "model_module": "@jupyter-widgets/controls",
          "model_module_version": "1.5.0",
          "model_name": "FloatProgressModel",
          "state": {
            "_dom_classes": [],
            "_model_module": "@jupyter-widgets/controls",
            "_model_module_version": "1.5.0",
            "_model_name": "FloatProgressModel",
            "_view_count": null,
            "_view_module": "@jupyter-widgets/controls",
            "_view_module_version": "1.5.0",
            "_view_name": "ProgressView",
            "bar_style": "success",
            "description": "",
            "description_tooltip": null,
            "layout": "IPY_MODEL_48ce3f2106e44305a6c50146be8b8909",
            "max": 10,
            "min": 0,
            "orientation": "horizontal",
            "style": "IPY_MODEL_e252684107514f218f506fa502e88421",
            "value": 10
          }
        },
        "b7f60a20804947038f72179dd4da6cd5": {
          "model_module": "@jupyter-widgets/base",
          "model_module_version": "1.2.0",
          "model_name": "LayoutModel",
          "state": {
            "_model_module": "@jupyter-widgets/base",
            "_model_module_version": "1.2.0",
            "_model_name": "LayoutModel",
            "_view_count": null,
            "_view_module": "@jupyter-widgets/base",
            "_view_module_version": "1.2.0",
            "_view_name": "LayoutView",
            "align_content": null,
            "align_items": null,
            "align_self": null,
            "border": null,
            "bottom": null,
            "display": null,
            "flex": null,
            "flex_flow": null,
            "grid_area": null,
            "grid_auto_columns": null,
            "grid_auto_flow": null,
            "grid_auto_rows": null,
            "grid_column": null,
            "grid_gap": null,
            "grid_row": null,
            "grid_template_areas": null,
            "grid_template_columns": null,
            "grid_template_rows": null,
            "height": null,
            "justify_content": null,
            "justify_items": null,
            "left": null,
            "margin": null,
            "max_height": null,
            "max_width": null,
            "min_height": null,
            "min_width": null,
            "object_fit": null,
            "object_position": null,
            "order": null,
            "overflow": null,
            "overflow_x": null,
            "overflow_y": null,
            "padding": null,
            "right": null,
            "top": null,
            "visibility": null,
            "width": null
          }
        },
        "c47ab4ddff3e4eccbb0fd4587c6289d9": {
          "model_module": "@jupyter-widgets/controls",
          "model_module_version": "1.5.0",
          "model_name": "ProgressStyleModel",
          "state": {
            "_model_module": "@jupyter-widgets/controls",
            "_model_module_version": "1.5.0",
            "_model_name": "ProgressStyleModel",
            "_view_count": null,
            "_view_module": "@jupyter-widgets/base",
            "_view_module_version": "1.2.0",
            "_view_name": "StyleView",
            "bar_color": null,
            "description_width": ""
          }
        },
        "c7147699e71e4245bfdc92775d0a6c62": {
          "model_module": "@jupyter-widgets/base",
          "model_module_version": "1.2.0",
          "model_name": "LayoutModel",
          "state": {
            "_model_module": "@jupyter-widgets/base",
            "_model_module_version": "1.2.0",
            "_model_name": "LayoutModel",
            "_view_count": null,
            "_view_module": "@jupyter-widgets/base",
            "_view_module_version": "1.2.0",
            "_view_name": "LayoutView",
            "align_content": null,
            "align_items": null,
            "align_self": null,
            "border": null,
            "bottom": null,
            "display": null,
            "flex": null,
            "flex_flow": null,
            "grid_area": null,
            "grid_auto_columns": null,
            "grid_auto_flow": null,
            "grid_auto_rows": null,
            "grid_column": null,
            "grid_gap": null,
            "grid_row": null,
            "grid_template_areas": null,
            "grid_template_columns": null,
            "grid_template_rows": null,
            "height": null,
            "justify_content": null,
            "justify_items": null,
            "left": null,
            "margin": null,
            "max_height": null,
            "max_width": null,
            "min_height": null,
            "min_width": null,
            "object_fit": null,
            "object_position": null,
            "order": null,
            "overflow": null,
            "overflow_x": null,
            "overflow_y": null,
            "padding": null,
            "right": null,
            "top": null,
            "visibility": null,
            "width": null
          }
        },
        "d5fe2b4cc7c84747931fa3a0e42e0cb8": {
          "model_module": "@jupyter-widgets/base",
          "model_module_version": "1.2.0",
          "model_name": "LayoutModel",
          "state": {
            "_model_module": "@jupyter-widgets/base",
            "_model_module_version": "1.2.0",
            "_model_name": "LayoutModel",
            "_view_count": null,
            "_view_module": "@jupyter-widgets/base",
            "_view_module_version": "1.2.0",
            "_view_name": "LayoutView",
            "align_content": null,
            "align_items": null,
            "align_self": null,
            "border": null,
            "bottom": null,
            "display": null,
            "flex": null,
            "flex_flow": null,
            "grid_area": null,
            "grid_auto_columns": null,
            "grid_auto_flow": null,
            "grid_auto_rows": null,
            "grid_column": null,
            "grid_gap": null,
            "grid_row": null,
            "grid_template_areas": null,
            "grid_template_columns": null,
            "grid_template_rows": null,
            "height": null,
            "justify_content": null,
            "justify_items": null,
            "left": null,
            "margin": null,
            "max_height": null,
            "max_width": null,
            "min_height": null,
            "min_width": null,
            "object_fit": null,
            "object_position": null,
            "order": null,
            "overflow": null,
            "overflow_x": null,
            "overflow_y": null,
            "padding": null,
            "right": null,
            "top": null,
            "visibility": null,
            "width": null
          }
        },
        "d8fb42cd4cff492d940a5c8e7b390beb": {
          "model_module": "@jupyter-widgets/controls",
          "model_module_version": "1.5.0",
          "model_name": "FloatProgressModel",
          "state": {
            "_dom_classes": [],
            "_model_module": "@jupyter-widgets/controls",
            "_model_module_version": "1.5.0",
            "_model_name": "FloatProgressModel",
            "_view_count": null,
            "_view_module": "@jupyter-widgets/controls",
            "_view_module_version": "1.5.0",
            "_view_name": "ProgressView",
            "bar_style": "success",
            "description": "",
            "description_tooltip": null,
            "layout": "IPY_MODEL_a8d27ef156c643e4a2399d9391eefbee",
            "max": 170498071,
            "min": 0,
            "orientation": "horizontal",
            "style": "IPY_MODEL_c47ab4ddff3e4eccbb0fd4587c6289d9",
            "value": 170498071
          }
        },
        "e252684107514f218f506fa502e88421": {
          "model_module": "@jupyter-widgets/controls",
          "model_module_version": "1.5.0",
          "model_name": "ProgressStyleModel",
          "state": {
            "_model_module": "@jupyter-widgets/controls",
            "_model_module_version": "1.5.0",
            "_model_name": "ProgressStyleModel",
            "_view_count": null,
            "_view_module": "@jupyter-widgets/base",
            "_view_module_version": "1.2.0",
            "_view_name": "StyleView",
            "bar_color": null,
            "description_width": ""
          }
        }
      }
    }
  },
  "nbformat": 4,
  "nbformat_minor": 5
}
