{
  "cells": [
    {
      "cell_type": "markdown",
      "id": "14b2f651",
      "metadata": {
        "cell_style": "split",
        "id": "14b2f651"
      },
      "source": [
        "# Get The Data\n",
        "Download CIFAR10 dataset and load it.\n",
        "I've loaded it as batches of 2, 4, and 6 to compare the differences in speed, and to see how this might affect the accuracy when training."
      ]
    },
    {
      "cell_type": "code",
      "execution_count": 2,
      "id": "d1e08a47",
      "metadata": {
        "cell_style": "split",
        "colab": {
          "base_uri": "https://localhost:8080/",
          "height": 84,
          "referenced_widgets": [
            "8742d639d8bc4d408b772f0674e9ed71",
            "6799835f69fd488ea873ff28527515ec",
            "d8fb42cd4cff492d940a5c8e7b390beb",
            "a201a5533eba4ef38a62cbd8524adde4",
            "3f79dc91865a4da2baa3c4b24994f39c",
            "b7f60a20804947038f72179dd4da6cd5",
            "3703d333684a4765993244d0bfafc422",
            "a8d27ef156c643e4a2399d9391eefbee",
            "c47ab4ddff3e4eccbb0fd4587c6289d9",
            "d5fe2b4cc7c84747931fa3a0e42e0cb8",
            "011ff0a24a274be7b7d36d464b7891ac"
          ]
        },
        "id": "d1e08a47",
        "outputId": "7cb6f69e-c00b-422b-80f3-65aede84358d"
      },
      "outputs": [
        {
          "output_type": "stream",
          "name": "stdout",
          "text": [
            "Downloading https://www.cs.toronto.edu/~kriz/cifar-10-python.tar.gz to ./cifar-10-python.tar.gz\n"
          ]
        },
        {
          "output_type": "display_data",
          "data": {
            "text/plain": [
              "  0%|          | 0/170498071 [00:00<?, ?it/s]"
            ],
            "application/vnd.jupyter.widget-view+json": {
              "version_major": 2,
              "version_minor": 0,
              "model_id": "8742d639d8bc4d408b772f0674e9ed71"
            }
          },
          "metadata": {}
        },
        {
          "output_type": "stream",
          "name": "stdout",
          "text": [
            "Extracting ./cifar-10-python.tar.gz to ./\n"
          ]
        }
      ],
      "source": [
        "from torch.utils.data import DataLoader\n",
        "from torchvision import datasets\n",
        "from torchvision import transforms as T\n",
        "\n",
        "cifar10_dataset = datasets.CIFAR10(root='./', # here\n",
        "                               train=True, # train split\n",
        "                               download=True, # we want to get the data\n",
        "                               transform=T.ToTensor(), # put it into tensor format\n",
        "                              )\n",
        "\n",
        "train_data_bs2 = DataLoader(cifar10_dataset,\n",
        "                                    batch_size=2,\n",
        "                                    )\n",
        "\n",
        "train_data_bs4 = DataLoader(cifar10_dataset,\n",
        "                                    batch_size=4\n",
        "                                    )\n",
        "\n",
        "train_data_bs6 = DataLoader(cifar10_dataset,\n",
        "                                    batch_size=6\n",
        "                                    )"
      ]
    },
    {
      "cell_type": "code",
      "execution_count": 29,
      "id": "d1cd8dd0",
      "metadata": {
        "colab": {
          "base_uri": "https://localhost:8080/"
        },
        "id": "d1cd8dd0",
        "outputId": "f3a9517e-f45e-4939-dc15-ecdd83094179"
      },
      "outputs": [
        {
          "output_type": "execute_result",
          "data": {
            "text/plain": [
              "12500"
            ]
          },
          "metadata": {},
          "execution_count": 29
        }
      ],
      "source": [
        "len(train_data_bs4)"
      ]
    },
    {
      "cell_type": "markdown",
      "id": "a7bae5b8",
      "metadata": {
        "cell_style": "split",
        "id": "a7bae5b8"
      },
      "source": [
        "# Investigate the data\n",
        "We don't actually know anything about our data, so let's see how it looks."
      ]
    },
    {
      "cell_type": "code",
      "execution_count": 30,
      "id": "e34357d3",
      "metadata": {
        "cell_style": "split",
        "colab": {
          "base_uri": "https://localhost:8080/"
        },
        "id": "e34357d3",
        "outputId": "becd1266-332d-48ff-9974-04161a577ac4"
      },
      "outputs": [
        {
          "output_type": "stream",
          "name": "stdout",
          "text": [
            "Type: <class 'list'>\n",
            "Length: 2\n",
            "More Types: <class 'torch.Tensor'>, <class 'torch.Tensor'>\n",
            "Shapes: torch.Size([6, 3, 32, 32]), torch.Size([6])\n",
            "Labels: tensor([6, 9, 9, 4, 1, 1])\n",
            "\n"
          ]
        }
      ],
      "source": [
        "data = iter(train_data_bs6) # Let's iterate on it\n",
        "single_point = next(data)\n",
        "print(f\"\"\"Type: {type(single_point)}\n",
        "Length: {len(single_point)}\n",
        "More Types: {type(single_point[0])}, {type(single_point[1])}\n",
        "Shapes: {single_point[0].shape}, {single_point[1].shape}\n",
        "Labels: {single_point[1]}\n",
        "\"\"\")"
      ]
    },
    {
      "cell_type": "markdown",
      "id": "9e37c01d",
      "metadata": {
        "cell_style": "split",
        "id": "9e37c01d"
      },
      "source": [
        "We here can see that the dataloader gives us back a list `(data, label)`. We can see that both are tensors (thanks to our transform we did) and we can see the shapes. We know that the label tensor is corresponding answers. The data tensor is shaped in `batch, channel, height, width`. That's because it is image data (and we have some prior knowledge)\n",
        "\n",
        "Let's also look at the data tensor we have `single_point[0]` (note that matplotlib by default will not use grayscale but viridis colormap. It is still a single channel but with higher readability)"
      ]
    },
    {
      "cell_type": "code",
      "execution_count": 34,
      "id": "2b58d826",
      "metadata": {
        "cell_style": "split",
        "colab": {
          "base_uri": "https://localhost:8080/",
          "height": 116
        },
        "id": "2b58d826",
        "outputId": "01590f38-5f3e-4494-f4af-56ed793da91e"
      },
      "outputs": [
        {
          "output_type": "execute_result",
          "data": {
            "text/plain": [
              "<matplotlib.image.AxesImage at 0x7f8d02c48dc0>"
            ]
          },
          "metadata": {},
          "execution_count": 34
        },
        {
          "output_type": "display_data",
          "data": {
            "text/plain": [
              "<Figure size 432x288 with 6 Axes>"
            ],
            "image/png": "[encoded data removed]"
          },
          "metadata": {
            "needs_background": "light"
          }
        }
      ],
      "source": [
        "import matplotlib.pyplot as plt\n",
        "from torchvision import transforms as T\n",
        "ToPIL = T.ToPILImage() # Converting function\n",
        "img0 = ToPIL(single_point[0][0])\n",
        "img1 = ToPIL(single_point[0][1])\n",
        "img2 = ToPIL(single_point[0][2])\n",
        "img3 = ToPIL(single_point[0][3])\n",
        "img4 = ToPIL(single_point[0][4])\n",
        "img5 = ToPIL(single_point[0][5])\n",
        "# Plotting\n",
        "fig, axs = plt.subplots(1,6)\n",
        "axs[0].imshow(img0)\n",
        "axs[1].imshow(img1)\n",
        "axs[2].imshow(img2)\n",
        "axs[3].imshow(img3)\n",
        "axs[4].imshow(img4)\n",
        "axs[5].imshow(img5)"
      ]
    },
    {
      "cell_type": "markdown",
      "id": "f891bc66",
      "metadata": {
        "cell_style": "split",
        "id": "f891bc66"
      },
      "source": [
        "\n",
        "\n",
        "```\n",
        "# This is formatted as code\n",
        "```\n",
        "\n",
        "# Part 1 - Linear Classifier\n",
        "\n"
      ]
    },
    {
      "cell_type": "code",
      "execution_count": 7,
      "id": "0981472d",
      "metadata": {
        "cell_style": "split",
        "id": "0981472d"
      },
      "outputs": [],
      "source": [
        "from torch import nn\n",
        "\n",
        "class Classifier(nn.Module):\n",
        "    def __init__(self,\n",
        "                 ninputs=3*32*32, # Size of input (channels * size of image)\n",
        "                 nhidden=512, # Number of hidden layers\n",
        "                 nout=10, # Number of classes\n",
        "                ):\n",
        "        super().__init__()\n",
        "        self.net = nn.Sequential(\n",
        "            nn.Linear(ninputs, nhidden),\n",
        "            nn.ReLU(),\n",
        "            nn.Linear(nhidden, nhidden),\n",
        "            nn.ReLU(),\n",
        "            nn.Linear(nhidden, nout),\n",
        "            nn.ReLU(),\n",
        "        )\n",
        "        \n",
        "    def forward(self, x):\n",
        "        b, c, h, w = x.shape\n",
        "        x = x.view(b, -1) # Flatten image -- 3 * 32 * 32\n",
        "        x = self.net(x)\n",
        "        return x"
      ]
    },
    {
      "cell_type": "code",
      "execution_count": null,
      "id": "9d9a573e",
      "metadata": {
        "id": "9d9a573e"
      },
      "outputs": [],
      "source": [
        "class resnet(nn.Module):\n",
        "    def __init__(self):\n",
        "        super().__init__()\n",
        "        self.l1 = nn.Sequntial(nn.Linear(10,10), nn.ReLU())\n",
        "        self.l2 = nn.Sequntial(nn.Linear(10, 10), nn.ReLU())\n",
        "        \n",
        "    def forward(self, x):\n",
        "        skip = x\n",
        "        x = self.l1(x)\n",
        "        x = skip + x\n",
        "        x = self.l2(x)\n",
        "        return x"
      ]
    },
    {
      "cell_type": "code",
      "execution_count": null,
      "id": "3a94cec8",
      "metadata": {
        "id": "3a94cec8"
      },
      "outputs": [],
      "source": []
    },
    {
      "cell_type": "markdown",
      "id": "cb5ece06",
      "metadata": {
        "id": "cb5ece06"
      },
      "source": [
        "# Setup the training program\n",
        "Now we need to get the meat of the subject and get the parts we need to train the network."
      ]
    },
    {
      "cell_type": "code",
      "execution_count": 8,
      "id": "e05614e9",
      "metadata": {
        "colab": {
          "base_uri": "https://localhost:8080/",
          "height": 381
        },
        "id": "e05614e9",
        "outputId": "3535ef1b-8cf7-488a-b810-9f9819bcd023"
      },
      "outputs": [
        {
          "output_type": "error",
          "ename": "KeyboardInterrupt",
          "evalue": "ignored",
          "traceback": [
            "\u001b[0;31m---------------------------------------------------------------------------\u001b[0m",
            "\u001b[0;31mKeyboardInterrupt\u001b[0m                         Traceback (most recent call last)",
            "\u001b[0;32m<ipython-input-8-5fd0a060866a>\u001b[0m in \u001b[0;36m<module>\u001b[0;34m\u001b[0m\n\u001b[1;32m     14\u001b[0m \u001b[0mnout\u001b[0m\u001b[0;34m=\u001b[0m\u001b[0;36m10\u001b[0m\u001b[0;34m\u001b[0m\u001b[0;34m\u001b[0m\u001b[0m\n\u001b[1;32m     15\u001b[0m \u001b[0;34m\u001b[0m\u001b[0m\n\u001b[0;32m---> 16\u001b[0;31m model = Classifier(ninputs=ninputs,\n\u001b[0m\u001b[1;32m     17\u001b[0m                   \u001b[0mnhidden\u001b[0m\u001b[0;34m=\u001b[0m\u001b[0mnhidden\u001b[0m\u001b[0;34m,\u001b[0m\u001b[0;34m\u001b[0m\u001b[0;34m\u001b[0m\u001b[0m\n\u001b[1;32m     18\u001b[0m                   nout=nout).to(device)\n",
            "\u001b[0;32m/usr/local/lib/python3.8/dist-packages/torch/nn/modules/module.py\u001b[0m in \u001b[0;36mto\u001b[0;34m(self, *args, **kwargs)\u001b[0m\n\u001b[1;32m    987\u001b[0m             \u001b[0;32mreturn\u001b[0m \u001b[0mt\u001b[0m\u001b[0;34m.\u001b[0m\u001b[0mto\u001b[0m\u001b[0;34m(\u001b[0m\u001b[0mdevice\u001b[0m\u001b[0;34m,\u001b[0m \u001b[0mdtype\u001b[0m \u001b[0;32mif\u001b[0m \u001b[0mt\u001b[0m\u001b[0;34m.\u001b[0m\u001b[0mis_floating_point\u001b[0m\u001b[0;34m(\u001b[0m\u001b[0;34m)\u001b[0m \u001b[0;32mor\u001b[0m \u001b[0mt\u001b[0m\u001b[0;34m.\u001b[0m\u001b[0mis_complex\u001b[0m\u001b[0;34m(\u001b[0m\u001b[0;34m)\u001b[0m \u001b[0;32melse\u001b[0m \u001b[0;32mNone\u001b[0m\u001b[0;34m,\u001b[0m \u001b[0mnon_blocking\u001b[0m\u001b[0;34m)\u001b[0m\u001b[0;34m\u001b[0m\u001b[0;34m\u001b[0m\u001b[0m\n\u001b[1;32m    988\u001b[0m \u001b[0;34m\u001b[0m\u001b[0m\n\u001b[0;32m--> 989\u001b[0;31m         \u001b[0;32mreturn\u001b[0m \u001b[0mself\u001b[0m\u001b[0;34m.\u001b[0m\u001b[0m_apply\u001b[0m\u001b[0;34m(\u001b[0m\u001b[0mconvert\u001b[0m\u001b[0;34m)\u001b[0m\u001b[0;34m\u001b[0m\u001b[0;34m\u001b[0m\u001b[0m\n\u001b[0m\u001b[1;32m    990\u001b[0m \u001b[0;34m\u001b[0m\u001b[0m\n\u001b[1;32m    991\u001b[0m     def register_backward_hook(\n",
            "\u001b[0;32m/usr/local/lib/python3.8/dist-packages/torch/nn/modules/module.py\u001b[0m in \u001b[0;36m_apply\u001b[0;34m(self, fn)\u001b[0m\n\u001b[1;32m    639\u001b[0m     \u001b[0;32mdef\u001b[0m \u001b[0m_apply\u001b[0m\u001b[0;34m(\u001b[0m\u001b[0mself\u001b[0m\u001b[0;34m,\u001b[0m \u001b[0mfn\u001b[0m\u001b[0;34m)\u001b[0m\u001b[0;34m:\u001b[0m\u001b[0;34m\u001b[0m\u001b[0;34m\u001b[0m\u001b[0m\n\u001b[1;32m    640\u001b[0m         \u001b[0;32mfor\u001b[0m \u001b[0mmodule\u001b[0m \u001b[0;32min\u001b[0m \u001b[0mself\u001b[0m\u001b[0;34m.\u001b[0m\u001b[0mchildren\u001b[0m\u001b[0;34m(\u001b[0m\u001b[0;34m)\u001b[0m\u001b[0;34m:\u001b[0m\u001b[0;34m\u001b[0m\u001b[0;34m\u001b[0m\u001b[0m\n\u001b[0;32m--> 641\u001b[0;31m             \u001b[0mmodule\u001b[0m\u001b[0;34m.\u001b[0m\u001b[0m_apply\u001b[0m\u001b[0;34m(\u001b[0m\u001b[0mfn\u001b[0m\u001b[0;34m)\u001b[0m\u001b[0;34m\u001b[0m\u001b[0;34m\u001b[0m\u001b[0m\n\u001b[0m\u001b[1;32m    642\u001b[0m \u001b[0;34m\u001b[0m\u001b[0m\n\u001b[1;32m    643\u001b[0m         \u001b[0;32mdef\u001b[0m \u001b[0mcompute_should_use_set_data\u001b[0m\u001b[0;34m(\u001b[0m\u001b[0mtensor\u001b[0m\u001b[0;34m,\u001b[0m \u001b[0mtensor_applied\u001b[0m\u001b[0;34m)\u001b[0m\u001b[0;34m:\u001b[0m\u001b[0;34m\u001b[0m\u001b[0;34m\u001b[0m\u001b[0m\n",
            "\u001b[0;32m/usr/local/lib/python3.8/dist-packages/torch/nn/modules/module.py\u001b[0m in \u001b[0;36m_apply\u001b[0;34m(self, fn)\u001b[0m\n\u001b[1;32m    639\u001b[0m     \u001b[0;32mdef\u001b[0m \u001b[0m_apply\u001b[0m\u001b[0;34m(\u001b[0m\u001b[0mself\u001b[0m\u001b[0;34m,\u001b[0m \u001b[0mfn\u001b[0m\u001b[0;34m)\u001b[0m\u001b[0;34m:\u001b[0m\u001b[0;34m\u001b[0m\u001b[0;34m\u001b[0m\u001b[0m\n\u001b[1;32m    640\u001b[0m         \u001b[0;32mfor\u001b[0m \u001b[0mmodule\u001b[0m \u001b[0;32min\u001b[0m \u001b[0mself\u001b[0m\u001b[0;34m.\u001b[0m\u001b[0mchildren\u001b[0m\u001b[0;34m(\u001b[0m\u001b[0;34m)\u001b[0m\u001b[0;34m:\u001b[0m\u001b[0;34m\u001b[0m\u001b[0;34m\u001b[0m\u001b[0m\n\u001b[0;32m--> 641\u001b[0;31m             \u001b[0mmodule\u001b[0m\u001b[0;34m.\u001b[0m\u001b[0m_apply\u001b[0m\u001b[0;34m(\u001b[0m\u001b[0mfn\u001b[0m\u001b[0;34m)\u001b[0m\u001b[0;34m\u001b[0m\u001b[0;34m\u001b[0m\u001b[0m\n\u001b[0m\u001b[1;32m    642\u001b[0m \u001b[0;34m\u001b[0m\u001b[0m\n\u001b[1;32m    643\u001b[0m         \u001b[0;32mdef\u001b[0m \u001b[0mcompute_should_use_set_data\u001b[0m\u001b[0;34m(\u001b[0m\u001b[0mtensor\u001b[0m\u001b[0;34m,\u001b[0m \u001b[0mtensor_applied\u001b[0m\u001b[0;34m)\u001b[0m\u001b[0;34m:\u001b[0m\u001b[0;34m\u001b[0m\u001b[0;34m\u001b[0m\u001b[0m\n",
            "\u001b[0;32m/usr/local/lib/python3.8/dist-packages/torch/nn/modules/module.py\u001b[0m in \u001b[0;36m_apply\u001b[0;34m(self, fn)\u001b[0m\n\u001b[1;32m    662\u001b[0m             \u001b[0;31m# `with torch.no_grad():`\u001b[0m\u001b[0;34m\u001b[0m\u001b[0;34m\u001b[0m\u001b[0;34m\u001b[0m\u001b[0m\n\u001b[1;32m    663\u001b[0m             \u001b[0;32mwith\u001b[0m \u001b[0mtorch\u001b[0m\u001b[0;34m.\u001b[0m\u001b[0mno_grad\u001b[0m\u001b[0;34m(\u001b[0m\u001b[0;34m)\u001b[0m\u001b[0;34m:\u001b[0m\u001b[0;34m\u001b[0m\u001b[0;34m\u001b[0m\u001b[0m\n\u001b[0;32m--> 664\u001b[0;31m                 \u001b[0mparam_applied\u001b[0m \u001b[0;34m=\u001b[0m \u001b[0mfn\u001b[0m\u001b[0;34m(\u001b[0m\u001b[0mparam\u001b[0m\u001b[0;34m)\u001b[0m\u001b[0;34m\u001b[0m\u001b[0;34m\u001b[0m\u001b[0m\n\u001b[0m\u001b[1;32m    665\u001b[0m             \u001b[0mshould_use_set_data\u001b[0m \u001b[0;34m=\u001b[0m \u001b[0mcompute_should_use_set_data\u001b[0m\u001b[0;34m(\u001b[0m\u001b[0mparam\u001b[0m\u001b[0;34m,\u001b[0m \u001b[0mparam_applied\u001b[0m\u001b[0;34m)\u001b[0m\u001b[0;34m\u001b[0m\u001b[0;34m\u001b[0m\u001b[0m\n\u001b[1;32m    666\u001b[0m             \u001b[0;32mif\u001b[0m \u001b[0mshould_use_set_data\u001b[0m\u001b[0;34m:\u001b[0m\u001b[0;34m\u001b[0m\u001b[0;34m\u001b[0m\u001b[0m\n",
            "\u001b[0;32m/usr/local/lib/python3.8/dist-packages/torch/nn/modules/module.py\u001b[0m in \u001b[0;36mconvert\u001b[0;34m(t)\u001b[0m\n\u001b[1;32m    985\u001b[0m                 return t.to(device, dtype if t.is_floating_point() or t.is_complex() else None,\n\u001b[1;32m    986\u001b[0m                             non_blocking, memory_format=convert_to_format)\n\u001b[0;32m--> 987\u001b[0;31m             \u001b[0;32mreturn\u001b[0m \u001b[0mt\u001b[0m\u001b[0;34m.\u001b[0m\u001b[0mto\u001b[0m\u001b[0;34m(\u001b[0m\u001b[0mdevice\u001b[0m\u001b[0;34m,\u001b[0m \u001b[0mdtype\u001b[0m \u001b[0;32mif\u001b[0m \u001b[0mt\u001b[0m\u001b[0;34m.\u001b[0m\u001b[0mis_floating_point\u001b[0m\u001b[0;34m(\u001b[0m\u001b[0;34m)\u001b[0m \u001b[0;32mor\u001b[0m \u001b[0mt\u001b[0m\u001b[0;34m.\u001b[0m\u001b[0mis_complex\u001b[0m\u001b[0;34m(\u001b[0m\u001b[0;34m)\u001b[0m \u001b[0;32melse\u001b[0m \u001b[0;32mNone\u001b[0m\u001b[0;34m,\u001b[0m \u001b[0mnon_blocking\u001b[0m\u001b[0;34m)\u001b[0m\u001b[0;34m\u001b[0m\u001b[0;34m\u001b[0m\u001b[0m\n\u001b[0m\u001b[1;32m    988\u001b[0m \u001b[0;34m\u001b[0m\u001b[0m\n\u001b[1;32m    989\u001b[0m         \u001b[0;32mreturn\u001b[0m \u001b[0mself\u001b[0m\u001b[0;34m.\u001b[0m\u001b[0m_apply\u001b[0m\u001b[0;34m(\u001b[0m\u001b[0mconvert\u001b[0m\u001b[0;34m)\u001b[0m\u001b[0;34m\u001b[0m\u001b[0;34m\u001b[0m\u001b[0m\n",
            "\u001b[0;31mKeyboardInterrupt\u001b[0m: "
          ]
        }
      ],
      "source": [
        "import torch\n",
        "from torchvision import datasets\n",
        "from torch import nn\n",
        "from torch import optim\n",
        "from tqdm import tqdm, notebook # This is optional but useful\n",
        "\n",
        "# Let's get the right torch device (preference of GPU)\n",
        "device = torch.device(\"cuda\" if torch.cuda.is_available() else \"cpu\")\n",
        "# Let's set up some parameters\n",
        "learning_rate=5e-1\n",
        "nepochs = 10\n",
        "ninputs=3*32*32\n",
        "nhidden=1024\n",
        "nout=10\n",
        "\n",
        "model = Classifier(ninputs=ninputs,\n",
        "                  nhidden=nhidden,\n",
        "                  nout=nout).to(device)\n",
        "print(model)\n",
        "# We need an optimizer that tells us what form of gradient descent to do\n",
        "optimizer = optim.SGD(model.parameters(), lr=learning_rate)\n",
        "\n",
        "# We also need a loss function\n",
        "LossFunction = nn.CrossEntropyLoss()\n",
        "\n",
        "# We're going to reload the data here so we have added clarity\n",
        "\n",
        "batch_size = 2048\n",
        "\n",
        "cifar10_dataset = datasets.CIFAR10(root='./', # here\n",
        "                               train=True, # train split\n",
        "                               download=True, # we want to get the data\n",
        "                               transform=T.ToTensor(), # put it into tensor format\n",
        "                              )\n",
        "\n",
        "train_data = DataLoader(cifar10_dataset,\n",
        "                            batch_size=batch_size,\n",
        "                            )\n",
        "\n",
        "# This is default on but let's just be pedantic\n",
        "model.train()\n",
        "loss_history = []\n",
        "loss = torch.Tensor([0])\n",
        "for epoch in notebook.trange(nepochs,\n",
        "                  desc=f\"Epoch\",\n",
        "                  unit=\"epoch\",\n",
        "                  disable=False):\n",
        "    for (data, label) in tqdm(train_data,\n",
        "                              desc=\"iteration\",\n",
        "                              unit=\"%\",\n",
        "                              disable=True):\n",
        "        optimizer.zero_grad(set_to_none=True) # Here we clear the gradients\n",
        "        \n",
        "        # We need to make sure the tensors are on the same device as our model\n",
        "        data = data.to(device)\n",
        "        label = label.to(device)\n",
        "        out = model(data)\n",
        "        \n",
        "        loss = LossFunction(out, label)\n",
        "        \n",
        "        # PyTorch is Magic!\n",
        "        loss.backward() # This function calculates all our gradients\n",
        "        optimizer.step() # This function does our gradient descent with those gradients\n",
        "        loss_history.append(loss.item())\n",
        "    print(f\"Epoch {epoch}: loss: {loss.item()}\")\n"
      ]
    },
    {
      "cell_type": "code",
      "execution_count": 42,
      "id": "73521f93",
      "metadata": {
        "cell_style": "center",
        "colab": {
          "base_uri": "https://localhost:8080/",
          "height": 295
        },
        "id": "73521f93",
        "outputId": "fdda12a2-b920-43d3-b749-5208cc7fc47a"
      },
      "outputs": [
        {
          "output_type": "display_data",
          "data": {
            "text/plain": [
              "<Figure size 432x288 with 1 Axes>"
            ],
            "image/png": "[encoded data removed]"
          },
          "metadata": {
            "needs_background": "light"
          }
        }
      ],
      "source": [
        "# Note that we are not plotting loss per epoch but per iteration\n",
        "plt.plot(loss_history)\n",
        "plt.title(\"Neural Network Loss\")\n",
        "plt.xlabel(\"Number of iterations\")\n",
        "plt.ylabel(\"Loss\")\n",
        "plt.show()"
      ]
    },
    {
      "cell_type": "markdown",
      "id": "f4866610",
      "metadata": {
        "id": "f4866610"
      },
      "source": [
        "# Testing\n",
        "Now lets' see how well our network learned\n",
        "\n"
      ]
    },
    {
      "cell_type": "code",
      "execution_count": 9,
      "id": "8cfbdc42",
      "metadata": {
        "colab": {
          "base_uri": "https://localhost:8080/",
          "height": 253
        },
        "id": "8cfbdc42",
        "outputId": "cbfd891f-cb75-4f98-b0b8-b4ed4c934953"
      },
      "outputs": [
        {
          "output_type": "stream",
          "name": "stdout",
          "text": [
            "Files already downloaded and verified\n"
          ]
        },
        {
          "output_type": "error",
          "ename": "NameError",
          "evalue": "ignored",
          "traceback": [
            "\u001b[0;31m---------------------------------------------------------------------------\u001b[0m",
            "\u001b[0;31mNameError\u001b[0m                                 Traceback (most recent call last)",
            "\u001b[0;32m<ipython-input-9-15b3d569a2c3>\u001b[0m in \u001b[0;36m<module>\u001b[0;34m\u001b[0m\n\u001b[1;32m      6\u001b[0m                               )\n\u001b[1;32m      7\u001b[0m test_data = DataLoader(mnist_test_dataset,\n\u001b[0;32m----> 8\u001b[0;31m                        \u001b[0mbatch_size\u001b[0m\u001b[0;34m=\u001b[0m\u001b[0mbatch_size\u001b[0m\u001b[0;34m,\u001b[0m\u001b[0;34m\u001b[0m\u001b[0;34m\u001b[0m\u001b[0m\n\u001b[0m\u001b[1;32m      9\u001b[0m                         )\n\u001b[1;32m     10\u001b[0m \u001b[0;34m\u001b[0m\u001b[0m\n",
            "\u001b[0;31mNameError\u001b[0m: name 'batch_size' is not defined"
          ]
        }
      ],
      "source": [
        "# We need to do the test data now\n",
        "mnist_test_dataset = datasets.CIFAR10(root='./', # here\n",
        "                               train=False, # train split\n",
        "                               download=True, # we want to get the data\n",
        "                               transform=T.ToTensor(), # put it into tensor format\n",
        "                              )\n",
        "test_data = DataLoader(mnist_test_dataset,\n",
        "                       batch_size=batch_size,\n",
        "                        )\n",
        "\n",
        "model.eval()\n",
        "accuracy = 0\n",
        "for (data, label) in test_data:\n",
        "    data = data.to(device)\n",
        "    label = label.to(device)\n",
        "    out = model(data)\n",
        "    answers = out.max(dim=1)[1]\n",
        "    accuracy += (answers == label).sum()\n",
        "print(f\"Total accuracy = {accuracy / len(mnist_test_dataset)*100:.2f}%\")"
      ]
    },
    {
      "cell_type": "markdown",
      "id": "2bd20335",
      "metadata": {
        "id": "2bd20335"
      },
      "source": [
        "# Summary\n",
        "You should play around with the above network and test different hyper parameters. Does the accuracy change? \n",
        "\n",
        "Try to answer the following questions:\n",
        "- How does Learning Rate change the accuracy?\n",
        "- How does batch size change things?\n",
        "- How many hidden layers do we need?\n",
        "- What happens if we use a different loss function?\n",
        "- What about a different optimizer?\n",
        "- Do we need to train longer?"
      ]
    },
    {
      "cell_type": "markdown",
      "id": "9091b8fc",
      "metadata": {
        "id": "9091b8fc"
      },
      "source": [
        "# Getting more advanced\n",
        "Let's get a bit more advanced with our network. This time we will design our network to take a variable number of hidden layers. We'll be able to add more depth to the network and define how many hidden layers are in that layer."
      ]
    },
    {
      "cell_type": "code",
      "execution_count": 10,
      "id": "d19a3814",
      "metadata": {
        "id": "d19a3814"
      },
      "outputs": [],
      "source": [
        "class LinearNet(nn.Module):\n",
        "    def __init__(self,\n",
        "                 ninputs=3*32*32,\n",
        "                 hidden=[512],\n",
        "                 nout=10,\n",
        "                ):\n",
        "        super().__init__()\n",
        "        net = []\n",
        "        # Input layer\n",
        "        net.append(nn.Linear(ninputs, hidden[0]))\n",
        "        net.append(nn.ReLU())\n",
        "        \n",
        "        # Hidden layers\n",
        "        \"\"\"if len(hidden) > 1:\n",
        "            for i in range(len(hidden)):\n",
        "                if i == 0:\n",
        "                    net.append(nn.Linear(hidden[i], hidden[i+1]))\n",
        "                else:\n",
        "                    net.append(nn.Linear(hidden[i-1], hidden[i]))\n",
        "                net.append(nn.ReLU())\"\"\"\n",
        "        if len(hidden) > 1:\n",
        "          for i in range(len(hidden) - 1):\n",
        "            net.append(nn.Linear(hidden[i], hidden[i+1]))\n",
        "            net.append(nn.ReLU())\n",
        "\n",
        "        # Output Layer\n",
        "        net.append(nn.Linear(hidden[-1], nout))\n",
        "        net.append(nn.ReLU())\n",
        "        self.net = nn.Sequential(*net)\n",
        "        \n",
        "    def forward(self, x):\n",
        "        b, c, h, w = x.shape\n",
        "        x = x.view(b, -1) # Flatten image\n",
        "        x = self.net(x)\n",
        "        return x"
      ]
    },
    {
      "cell_type": "code",
      "execution_count": 11,
      "id": "c08d681d",
      "metadata": {
        "colab": {
          "base_uri": "https://localhost:8080/",
          "height": 632,
          "referenced_widgets": [
            "71f4626449d34a888e00deb4342771ca",
            "68307679ad3143bd9bb080f0c720163c",
            "b755f4d129db4939b84d3ea9f4fcb77c",
            "531ae91f96a94d4dbf271964352559ca",
            "c7147699e71e4245bfdc92775d0a6c62",
            "34f53fff8ef748ff85321533f5fea4f2",
            "4157a964016149d0a1a8b2482842620c",
            "48ce3f2106e44305a6c50146be8b8909",
            "e252684107514f218f506fa502e88421",
            "6534fb58b8b2473d974e69a5d09383da",
            "6730b6bfde054ea7896369fbe7f117a7"
          ]
        },
        "id": "c08d681d",
        "outputId": "f610eaef-ce00-4841-de50-43d7c22898e3"
      },
      "outputs": [
        {
          "output_type": "stream",
          "name": "stdout",
          "text": [
            "LinearNet(\n",
            "  (net): Sequential(\n",
            "    (0): Linear(in_features=3072, out_features=5000, bias=True)\n",
            "    (1): ReLU()\n",
            "    (2): Linear(in_features=5000, out_features=10000, bias=True)\n",
            "    (3): ReLU()\n",
            "    (4): Linear(in_features=10000, out_features=10, bias=True)\n",
            "    (5): ReLU()\n",
            "  )\n",
            ")\n",
            "Files already downloaded and verified\n"
          ]
        },
        {
          "output_type": "display_data",
          "data": {
            "text/plain": [
              "Epoch:   0%|          | 0/10 [00:00<?, ?epoch/s]"
            ],
            "application/vnd.jupyter.widget-view+json": {
              "version_major": 2,
              "version_minor": 0,
              "model_id": "71f4626449d34a888e00deb4342771ca"
            }
          },
          "metadata": {}
        },
        {
          "output_type": "stream",
          "name": "stdout",
          "text": [
            "Epoch 0: loss: 2.288611888885498\n",
            "Epoch 1: loss: 2.300048589706421\n",
            "Epoch 2: loss: 2.271409273147583\n",
            "Epoch 3: loss: 2.2844483852386475\n",
            "Epoch 4: loss: 2.2577197551727295\n",
            "Epoch 5: loss: 2.2283008098602295\n",
            "Epoch 6: loss: 2.2496776580810547\n",
            "Epoch 7: loss: 2.2545254230499268\n",
            "Epoch 8: loss: 2.206313371658325\n",
            "Epoch 9: loss: 2.2268693447113037\n"
          ]
        },
        {
          "output_type": "error",
          "ename": "NameError",
          "evalue": "ignored",
          "traceback": [
            "\u001b[0;31m---------------------------------------------------------------------------\u001b[0m",
            "\u001b[0;31mNameError\u001b[0m                                 Traceback (most recent call last)",
            "\u001b[0;32m<ipython-input-11-5425d0670d54>\u001b[0m in \u001b[0;36m<module>\u001b[0;34m\u001b[0m\n\u001b[1;32m     52\u001b[0m \u001b[0;34m\u001b[0m\u001b[0m\n\u001b[1;32m     53\u001b[0m \u001b[0;31m# Note that we are not plotting loss per epoch but per iteration\u001b[0m\u001b[0;34m\u001b[0m\u001b[0;34m\u001b[0m\u001b[0;34m\u001b[0m\u001b[0m\n\u001b[0;32m---> 54\u001b[0;31m \u001b[0mplt\u001b[0m\u001b[0;34m.\u001b[0m\u001b[0mplot\u001b[0m\u001b[0;34m(\u001b[0m\u001b[0mloss_history\u001b[0m\u001b[0;34m)\u001b[0m\u001b[0;34m\u001b[0m\u001b[0;34m\u001b[0m\u001b[0m\n\u001b[0m\u001b[1;32m     55\u001b[0m \u001b[0mplt\u001b[0m\u001b[0;34m.\u001b[0m\u001b[0mtitle\u001b[0m\u001b[0;34m(\u001b[0m\u001b[0;34m\"Neural Network Loss\"\u001b[0m\u001b[0;34m)\u001b[0m\u001b[0;34m\u001b[0m\u001b[0;34m\u001b[0m\u001b[0m\n\u001b[1;32m     56\u001b[0m \u001b[0mplt\u001b[0m\u001b[0;34m.\u001b[0m\u001b[0mxlabel\u001b[0m\u001b[0;34m(\u001b[0m\u001b[0;34m\"Number of iterations\"\u001b[0m\u001b[0;34m)\u001b[0m\u001b[0;34m\u001b[0m\u001b[0;34m\u001b[0m\u001b[0m\n",
            "\u001b[0;31mNameError\u001b[0m: name 'plt' is not defined"
          ]
        }
      ],
      "source": [
        "# Let's set up some parameters\n",
        "learning_rate=5e-1\n",
        "nepochs = 10\n",
        "ninputs=3*32*32\n",
        "hidden=[5000, 10000]\n",
        "nout=10\n",
        "\n",
        "model = LinearNet(ninputs=ninputs,\n",
        "                  hidden=hidden,\n",
        "                  nout=nout).to(device)\n",
        "print(model)\n",
        "# We need an optimizer that tells us what form of gradient descent to do\n",
        "optimizer = optim.SGD(model.parameters(), lr=learning_rate)\n",
        "\n",
        "# We also need a loss function\n",
        "LossFunction = nn.CrossEntropyLoss()\n",
        "\n",
        "# We're going to reload the data here so we have added clarity\n",
        "\n",
        "batch_size = 2048\n",
        "\n",
        "cifar10_dataset = datasets.CIFAR10(root='./', # here\n",
        "                               train=True, # train split\n",
        "                               download=True, # we want to get the data\n",
        "                               transform=T.ToTensor(), # put it into tensor format\n",
        "                              )\n",
        "\n",
        "train_data = DataLoader(cifar10_dataset,\n",
        "                        batch_size=batch_size,\n",
        "                        )\n",
        "\n",
        "# This is default on but let's just be pedantic\n",
        "model.train()\n",
        "loss_history = []\n",
        "for epoch in notebook.trange(nepochs,\n",
        "                  desc=\"Epoch\",\n",
        "                  unit=\"epoch\",\n",
        "                  disable=False):\n",
        "    for (data, label) in tqdm(train_data,\n",
        "                              desc=\"iteration\",\n",
        "                              unit=\"%\",\n",
        "                              disable=True):\n",
        "        optimizer.zero_grad(set_to_none=True)\n",
        "        data = data.to(device)\n",
        "        label = label.to(device)\n",
        "        out = model(data)\n",
        "        loss = LossFunction(out, label)\n",
        "        loss.backward()\n",
        "        optimizer.step()\n",
        "        loss_history.append(loss.item())\n",
        "    print(f\"Epoch {epoch}: loss: {loss.item()}\")\n",
        "    \n",
        "# Note that we are not plotting loss per epoch but per iteration\n",
        "plt.plot(loss_history)\n",
        "plt.title(\"Neural Network Loss\")\n",
        "plt.xlabel(\"Number of iterations\")\n",
        "plt.ylabel(\"Loss\")\n",
        "plt.show()"
      ]
    },
    {
      "cell_type": "code",
      "execution_count": null,
      "id": "ee569a3b",
      "metadata": {
        "id": "ee569a3b"
      },
      "outputs": [],
      "source": [
        "model.eval()\n",
        "accuracy = 0\n",
        "for (data, label) in test_data:\n",
        "    data = data.to(device)\n",
        "    label = label.to(device)\n",
        "    out = model(data)\n",
        "    answers = out.max(dim=1)[1]\n",
        "    accuracy += (answers == label).sum()\n",
        "print(f\"Total accuracy = {accuracy / len(mnist_test_dataset)*100:.2f}%\")"
      ]
    },
    {
      "cell_type": "markdown",
      "id": "e3af419f",
      "metadata": {
        "id": "e3af419f"
      },
      "source": [
        "# Getting More Out of PyTorch"
      ]
    },
    {
      "cell_type": "code",
      "execution_count": null,
      "id": "b27e37f9",
      "metadata": {
        "id": "b27e37f9"
      },
      "outputs": [],
      "source": [
        "# Let's see what datasets are offered (https://pytorch.org/vision/stable/datasets.html)\n",
        "print(datasets.__dir__())"
      ]
    },
    {
      "cell_type": "code",
      "execution_count": null,
      "id": "0235544b",
      "metadata": {
        "id": "0235544b",
        "outputId": "7046776a-011b-48a1-c0a8-db74d496ceaf"
      },
      "outputs": [
        {
          "name": "stdout",
          "output_type": "stream",
          "text": [
            "['__name__', '__doc__', '__package__', '__loader__', '__spec__', '__path__', '__file__', '__cached__', '__builtins__', 'Adadelta', 'Adagrad', 'Adam', 'AdamW', '_functional', 'SparseAdam', 'Adamax', 'ASGD', 'SGD', 'RAdam', 'Rprop', 'RMSprop', 'Optimizer', 'NAdam', 'LBFGS', 'lr_scheduler', 'swa_utils', '_multi_tensor']\n"
          ]
        }
      ],
      "source": [
        "# What about optimizers?\n",
        "print(optim.__dir__())"
      ]
    },
    {
      "cell_type": "code",
      "execution_count": null,
      "id": "c2364f31",
      "metadata": {
        "id": "c2364f31"
      },
      "outputs": [],
      "source": []
    }
  ],
  "metadata": {
    "kernelspec": {
      "display_name": "Python 3 (ipykernel)",
      "language": "python",
      "name": "python3"
    },
    "language_info": {
      "codemirror_mode": {
        "name": "ipython",
        "version": 3
      },
      "file_extension": ".py",
      "mimetype": "text/x-python",
      "name": "python",
      "nbconvert_exporter": "python",
      "pygments_lexer": "ipython3",
      "version": "3.9.12"
    },
    "colab": {
      "provenance": []
    },
    "accelerator": "GPU",
    "gpuClass": "standard",
    "widgets": {
      "application/vnd.jupyter.widget-state+json": {
        "8742d639d8bc4d408b772f0674e9ed71": {
          "model_module": "@jupyter-widgets/controls",
          "model_name": "HBoxModel",
          "model_module_version": "1.5.0",
          "state": {
            "_dom_classes": [],
            "_model_module": "@jupyter-widgets/controls",
            "_model_module_version": "1.5.0",
            "_model_name": "HBoxModel",
            "_view_count": null,
            "_view_module": "@jupyter-widgets/controls",
            "_view_module_version": "1.5.0",
            "_view_name": "HBoxView",
            "box_style": "",
            "children": [
              "IPY_MODEL_6799835f69fd488ea873ff28527515ec",
              "IPY_MODEL_d8fb42cd4cff492d940a5c8e7b390beb",
              "IPY_MODEL_a201a5533eba4ef38a62cbd8524adde4"
            ],
            "layout": "IPY_MODEL_3f79dc91865a4da2baa3c4b24994f39c"
          }
        },
        "6799835f69fd488ea873ff28527515ec": {
          "model_module": "@jupyter-widgets/controls",
          "model_name": "HTMLModel",
          "model_module_version": "1.5.0",
          "state": {
            "_dom_classes": [],
            "_model_module": "@jupyter-widgets/controls",
            "_model_module_version": "1.5.0",
            "_model_name": "HTMLModel",
            "_view_count": null,
            "_view_module": "@jupyter-widgets/controls",
            "_view_module_version": "1.5.0",
            "_view_name": "HTMLView",
            "description": "",
            "description_tooltip": null,
            "layout": "IPY_MODEL_b7f60a20804947038f72179dd4da6cd5",
            "placeholder": "​",
            "style": "IPY_MODEL_3703d333684a4765993244d0bfafc422",
            "value": "100%"
          }
        },
        "d8fb42cd4cff492d940a5c8e7b390beb": {
          "model_module": "@jupyter-widgets/controls",
          "model_name": "FloatProgressModel",
          "model_module_version": "1.5.0",
          "state": {
            "_dom_classes": [],
            "_model_module": "@jupyter-widgets/controls",
            "_model_module_version": "1.5.0",
            "_model_name": "FloatProgressModel",
            "_view_count": null,
            "_view_module": "@jupyter-widgets/controls",
            "_view_module_version": "1.5.0",
            "_view_name": "ProgressView",
            "bar_style": "success",
            "description": "",
            "description_tooltip": null,
            "layout": "IPY_MODEL_a8d27ef156c643e4a2399d9391eefbee",
            "max": 170498071,
            "min": 0,
            "orientation": "horizontal",
            "style": "IPY_MODEL_c47ab4ddff3e4eccbb0fd4587c6289d9",
            "value": 170498071
          }
        },
        "a201a5533eba4ef38a62cbd8524adde4": {
          "model_module": "@jupyter-widgets/controls",
          "model_name": "HTMLModel",
          "model_module_version": "1.5.0",
          "state": {
            "_dom_classes": [],
            "_model_module": "@jupyter-widgets/controls",
            "_model_module_version": "1.5.0",
            "_model_name": "HTMLModel",
            "_view_count": null,
            "_view_module": "@jupyter-widgets/controls",
            "_view_module_version": "1.5.0",
            "_view_name": "HTMLView",
            "description": "",
            "description_tooltip": null,
            "layout": "IPY_MODEL_d5fe2b4cc7c84747931fa3a0e42e0cb8",
            "placeholder": "​",
            "style": "IPY_MODEL_011ff0a24a274be7b7d36d464b7891ac",
            "value": " 170498071/170498071 [00:13&lt;00:00, 14822477.45it/s]"
          }
        },
        "3f79dc91865a4da2baa3c4b24994f39c": {
          "model_module": "@jupyter-widgets/base",
          "model_name": "LayoutModel",
          "model_module_version": "1.2.0",
          "state": {
            "_model_module": "@jupyter-widgets/base",
            "_model_module_version": "1.2.0",
            "_model_name": "LayoutModel",
            "_view_count": null,
            "_view_module": "@jupyter-widgets/base",
            "_view_module_version": "1.2.0",
            "_view_name": "LayoutView",
            "align_content": null,
            "align_items": null,
            "align_self": null,
            "border": null,
            "bottom": null,
            "display": null,
            "flex": null,
            "flex_flow": null,
            "grid_area": null,
            "grid_auto_columns": null,
            "grid_auto_flow": null,
            "grid_auto_rows": null,
            "grid_column": null,
            "grid_gap": null,
            "grid_row": null,
            "grid_template_areas": null,
            "grid_template_columns": null,
            "grid_template_rows": null,
            "height": null,
            "justify_content": null,
            "justify_items": null,
            "left": null,
            "margin": null,
            "max_height": null,
            "max_width": null,
            "min_height": null,
            "min_width": null,
            "object_fit": null,
            "object_position": null,
            "order": null,
            "overflow": null,
            "overflow_x": null,
            "overflow_y": null,
            "padding": null,
            "right": null,
            "top": null,
            "visibility": null,
            "width": null
          }
        },
        "b7f60a20804947038f72179dd4da6cd5": {
          "model_module": "@jupyter-widgets/base",
          "model_name": "LayoutModel",
          "model_module_version": "1.2.0",
          "state": {
            "_model_module": "@jupyter-widgets/base",
            "_model_module_version": "1.2.0",
            "_model_name": "LayoutModel",
            "_view_count": null,
            "_view_module": "@jupyter-widgets/base",
            "_view_module_version": "1.2.0",
            "_view_name": "LayoutView",
            "align_content": null,
            "align_items": null,
            "align_self": null,
            "border": null,
            "bottom": null,
            "display": null,
            "flex": null,
            "flex_flow": null,
            "grid_area": null,
            "grid_auto_columns": null,
            "grid_auto_flow": null,
            "grid_auto_rows": null,
            "grid_column": null,
            "grid_gap": null,
            "grid_row": null,
            "grid_template_areas": null,
            "grid_template_columns": null,
            "grid_template_rows": null,
            "height": null,
            "justify_content": null,
            "justify_items": null,
            "left": null,
            "margin": null,
            "max_height": null,
            "max_width": null,
            "min_height": null,
            "min_width": null,
            "object_fit": null,
            "object_position": null,
            "order": null,
            "overflow": null,
            "overflow_x": null,
            "overflow_y": null,
            "padding": null,
            "right": null,
            "top": null,
            "visibility": null,
            "width": null
          }
        },
        "3703d333684a4765993244d0bfafc422": {
          "model_module": "@jupyter-widgets/controls",
          "model_name": "DescriptionStyleModel",
          "model_module_version": "1.5.0",
          "state": {
            "_model_module": "@jupyter-widgets/controls",
            "_model_module_version": "1.5.0",
            "_model_name": "DescriptionStyleModel",
            "_view_count": null,
            "_view_module": "@jupyter-widgets/base",
            "_view_module_version": "1.2.0",
            "_view_name": "StyleView",
            "description_width": ""
          }
        },
        "a8d27ef156c643e4a2399d9391eefbee": {
          "model_module": "@jupyter-widgets/base",
          "model_name": "LayoutModel",
          "model_module_version": "1.2.0",
          "state": {
            "_model_module": "@jupyter-widgets/base",
            "_model_module_version": "1.2.0",
            "_model_name": "LayoutModel",
            "_view_count": null,
            "_view_module": "@jupyter-widgets/base",
            "_view_module_version": "1.2.0",
            "_view_name": "LayoutView",
            "align_content": null,
            "align_items": null,
            "align_self": null,
            "border": null,
            "bottom": null,
            "display": null,
            "flex": null,
            "flex_flow": null,
            "grid_area": null,
            "grid_auto_columns": null,
            "grid_auto_flow": null,
            "grid_auto_rows": null,
            "grid_column": null,
            "grid_gap": null,
            "grid_row": null,
            "grid_template_areas": null,
            "grid_template_columns": null,
            "grid_template_rows": null,
            "height": null,
            "justify_content": null,
            "justify_items": null,
            "left": null,
            "margin": null,
            "max_height": null,
            "max_width": null,
            "min_height": null,
            "min_width": null,
            "object_fit": null,
            "object_position": null,
            "order": null,
            "overflow": null,
            "overflow_x": null,
            "overflow_y": null,
            "padding": null,
            "right": null,
            "top": null,
            "visibility": null,
            "width": null
          }
        },
        "c47ab4ddff3e4eccbb0fd4587c6289d9": {
          "model_module": "@jupyter-widgets/controls",
          "model_name": "ProgressStyleModel",
          "model_module_version": "1.5.0",
          "state": {
            "_model_module": "@jupyter-widgets/controls",
            "_model_module_version": "1.5.0",
            "_model_name": "ProgressStyleModel",
            "_view_count": null,
            "_view_module": "@jupyter-widgets/base",
            "_view_module_version": "1.2.0",
            "_view_name": "StyleView",
            "bar_color": null,
            "description_width": ""
          }
        },
        "d5fe2b4cc7c84747931fa3a0e42e0cb8": {
          "model_module": "@jupyter-widgets/base",
          "model_name": "LayoutModel",
          "model_module_version": "1.2.0",
          "state": {
            "_model_module": "@jupyter-widgets/base",
            "_model_module_version": "1.2.0",
            "_model_name": "LayoutModel",
            "_view_count": null,
            "_view_module": "@jupyter-widgets/base",
            "_view_module_version": "1.2.0",
            "_view_name": "LayoutView",
            "align_content": null,
            "align_items": null,
            "align_self": null,
            "border": null,
            "bottom": null,
            "display": null,
            "flex": null,
            "flex_flow": null,
            "grid_area": null,
            "grid_auto_columns": null,
            "grid_auto_flow": null,
            "grid_auto_rows": null,
            "grid_column": null,
            "grid_gap": null,
            "grid_row": null,
            "grid_template_areas": null,
            "grid_template_columns": null,
            "grid_template_rows": null,
            "height": null,
            "justify_content": null,
            "justify_items": null,
            "left": null,
            "margin": null,
            "max_height": null,
            "max_width": null,
            "min_height": null,
            "min_width": null,
            "object_fit": null,
            "object_position": null,
            "order": null,
            "overflow": null,
            "overflow_x": null,
            "overflow_y": null,
            "padding": null,
            "right": null,
            "top": null,
            "visibility": null,
            "width": null
          }
        },
        "011ff0a24a274be7b7d36d464b7891ac": {
          "model_module": "@jupyter-widgets/controls",
          "model_name": "DescriptionStyleModel",
          "model_module_version": "1.5.0",
          "state": {
            "_model_module": "@jupyter-widgets/controls",
            "_model_module_version": "1.5.0",
            "_model_name": "DescriptionStyleModel",
            "_view_count": null,
            "_view_module": "@jupyter-widgets/base",
            "_view_module_version": "1.2.0",
            "_view_name": "StyleView",
            "description_width": ""
          }
        },
        "71f4626449d34a888e00deb4342771ca": {
          "model_module": "@jupyter-widgets/controls",
          "model_name": "HBoxModel",
          "model_module_version": "1.5.0",
          "state": {
            "_dom_classes": [],
            "_model_module": "@jupyter-widgets/controls",
            "_model_module_version": "1.5.0",
            "_model_name": "HBoxModel",
            "_view_count": null,
            "_view_module": "@jupyter-widgets/controls",
            "_view_module_version": "1.5.0",
            "_view_name": "HBoxView",
            "box_style": "",
            "children": [
              "IPY_MODEL_68307679ad3143bd9bb080f0c720163c",
              "IPY_MODEL_b755f4d129db4939b84d3ea9f4fcb77c",
              "IPY_MODEL_531ae91f96a94d4dbf271964352559ca"
            ],
            "layout": "IPY_MODEL_c7147699e71e4245bfdc92775d0a6c62"
          }
        },
        "68307679ad3143bd9bb080f0c720163c": {
          "model_module": "@jupyter-widgets/controls",
          "model_name": "HTMLModel",
          "model_module_version": "1.5.0",
          "state": {
            "_dom_classes": [],
            "_model_module": "@jupyter-widgets/controls",
            "_model_module_version": "1.5.0",
            "_model_name": "HTMLModel",
            "_view_count": null,
            "_view_module": "@jupyter-widgets/controls",
            "_view_module_version": "1.5.0",
            "_view_name": "HTMLView",
            "description": "",
            "description_tooltip": null,
            "layout": "IPY_MODEL_34f53fff8ef748ff85321533f5fea4f2",
            "placeholder": "​",
            "style": "IPY_MODEL_4157a964016149d0a1a8b2482842620c",
            "value": "Epoch: 100%"
          }
        },
        "b755f4d129db4939b84d3ea9f4fcb77c": {
          "model_module": "@jupyter-widgets/controls",
          "model_name": "FloatProgressModel",
          "model_module_version": "1.5.0",
          "state": {
            "_dom_classes": [],
            "_model_module": "@jupyter-widgets/controls",
            "_model_module_version": "1.5.0",
            "_model_name": "FloatProgressModel",
            "_view_count": null,
            "_view_module": "@jupyter-widgets/controls",
            "_view_module_version": "1.5.0",
            "_view_name": "ProgressView",
            "bar_style": "success",
            "description": "",
            "description_tooltip": null,
            "layout": "IPY_MODEL_48ce3f2106e44305a6c50146be8b8909",
            "max": 10,
            "min": 0,
            "orientation": "horizontal",
            "style": "IPY_MODEL_e252684107514f218f506fa502e88421",
            "value": 10
          }
        },
        "531ae91f96a94d4dbf271964352559ca": {
          "model_module": "@jupyter-widgets/controls",
          "model_name": "HTMLModel",
          "model_module_version": "1.5.0",
          "state": {
            "_dom_classes": [],
            "_model_module": "@jupyter-widgets/controls",
            "_model_module_version": "1.5.0",
            "_model_name": "HTMLModel",
            "_view_count": null,
            "_view_module": "@jupyter-widgets/controls",
            "_view_module_version": "1.5.0",
            "_view_name": "HTMLView",
            "description": "",
            "description_tooltip": null,
            "layout": "IPY_MODEL_6534fb58b8b2473d974e69a5d09383da",
            "placeholder": "​",
            "style": "IPY_MODEL_6730b6bfde054ea7896369fbe7f117a7",
            "value": " 10/10 [01:48&lt;00:00, 10.55s/epoch]"
          }
        },
        "c7147699e71e4245bfdc92775d0a6c62": {
          "model_module": "@jupyter-widgets/base",
          "model_name": "LayoutModel",
          "model_module_version": "1.2.0",
          "state": {
            "_model_module": "@jupyter-widgets/base",
            "_model_module_version": "1.2.0",
            "_model_name": "LayoutModel",
            "_view_count": null,
            "_view_module": "@jupyter-widgets/base",
            "_view_module_version": "1.2.0",
            "_view_name": "LayoutView",
            "align_content": null,
            "align_items": null,
            "align_self": null,
            "border": null,
            "bottom": null,
            "display": null,
            "flex": null,
            "flex_flow": null,
            "grid_area": null,
            "grid_auto_columns": null,
            "grid_auto_flow": null,
            "grid_auto_rows": null,
            "grid_column": null,
            "grid_gap": null,
            "grid_row": null,
            "grid_template_areas": null,
            "grid_template_columns": null,
            "grid_template_rows": null,
            "height": null,
            "justify_content": null,
            "justify_items": null,
            "left": null,
            "margin": null,
            "max_height": null,
            "max_width": null,
            "min_height": null,
            "min_width": null,
            "object_fit": null,
            "object_position": null,
            "order": null,
            "overflow": null,
            "overflow_x": null,
            "overflow_y": null,
            "padding": null,
            "right": null,
            "top": null,
            "visibility": null,
            "width": null
          }
        },
        "34f53fff8ef748ff85321533f5fea4f2": {
          "model_module": "@jupyter-widgets/base",
          "model_name": "LayoutModel",
          "model_module_version": "1.2.0",
          "state": {
            "_model_module": "@jupyter-widgets/base",
            "_model_module_version": "1.2.0",
            "_model_name": "LayoutModel",
            "_view_count": null,
            "_view_module": "@jupyter-widgets/base",
            "_view_module_version": "1.2.0",
            "_view_name": "LayoutView",
            "align_content": null,
            "align_items": null,
            "align_self": null,
            "border": null,
            "bottom": null,
            "display": null,
            "flex": null,
            "flex_flow": null,
            "grid_area": null,
            "grid_auto_columns": null,
            "grid_auto_flow": null,
            "grid_auto_rows": null,
            "grid_column": null,
            "grid_gap": null,
            "grid_row": null,
            "grid_template_areas": null,
            "grid_template_columns": null,
            "grid_template_rows": null,
            "height": null,
            "justify_content": null,
            "justify_items": null,
            "left": null,
            "margin": null,
            "max_height": null,
            "max_width": null,
            "min_height": null,
            "min_width": null,
            "object_fit": null,
            "object_position": null,
            "order": null,
            "overflow": null,
            "overflow_x": null,
            "overflow_y": null,
            "padding": null,
            "right": null,
            "top": null,
            "visibility": null,
            "width": null
          }
        },
        "4157a964016149d0a1a8b2482842620c": {
          "model_module": "@jupyter-widgets/controls",
          "model_name": "DescriptionStyleModel",
          "model_module_version": "1.5.0",
          "state": {
            "_model_module": "@jupyter-widgets/controls",
            "_model_module_version": "1.5.0",
            "_model_name": "DescriptionStyleModel",
            "_view_count": null,
            "_view_module": "@jupyter-widgets/base",
            "_view_module_version": "1.2.0",
            "_view_name": "StyleView",
            "description_width": ""
          }
        },
        "48ce3f2106e44305a6c50146be8b8909": {
          "model_module": "@jupyter-widgets/base",
          "model_name": "LayoutModel",
          "model_module_version": "1.2.0",
          "state": {
            "_model_module": "@jupyter-widgets/base",
            "_model_module_version": "1.2.0",
            "_model_name": "LayoutModel",
            "_view_count": null,
            "_view_module": "@jupyter-widgets/base",
            "_view_module_version": "1.2.0",
            "_view_name": "LayoutView",
            "align_content": null,
            "align_items": null,
            "align_self": null,
            "border": null,
            "bottom": null,
            "display": null,
            "flex": null,
            "flex_flow": null,
            "grid_area": null,
            "grid_auto_columns": null,
            "grid_auto_flow": null,
            "grid_auto_rows": null,
            "grid_column": null,
            "grid_gap": null,
            "grid_row": null,
            "grid_template_areas": null,
            "grid_template_columns": null,
            "grid_template_rows": null,
            "height": null,
            "justify_content": null,
            "justify_items": null,
            "left": null,
            "margin": null,
            "max_height": null,
            "max_width": null,
            "min_height": null,
            "min_width": null,
            "object_fit": null,
            "object_position": null,
            "order": null,
            "overflow": null,
            "overflow_x": null,
            "overflow_y": null,
            "padding": null,
            "right": null,
            "top": null,
            "visibility": null,
            "width": null
          }
        },
        "e252684107514f218f506fa502e88421": {
          "model_module": "@jupyter-widgets/controls",
          "model_name": "ProgressStyleModel",
          "model_module_version": "1.5.0",
          "state": {
            "_model_module": "@jupyter-widgets/controls",
            "_model_module_version": "1.5.0",
            "_model_name": "ProgressStyleModel",
            "_view_count": null,
            "_view_module": "@jupyter-widgets/base",
            "_view_module_version": "1.2.0",
            "_view_name": "StyleView",
            "bar_color": null,
            "description_width": ""
          }
        },
        "6534fb58b8b2473d974e69a5d09383da": {
          "model_module": "@jupyter-widgets/base",
          "model_name": "LayoutModel",
          "model_module_version": "1.2.0",
          "state": {
            "_model_module": "@jupyter-widgets/base",
            "_model_module_version": "1.2.0",
            "_model_name": "LayoutModel",
            "_view_count": null,
            "_view_module": "@jupyter-widgets/base",
            "_view_module_version": "1.2.0",
            "_view_name": "LayoutView",
            "align_content": null,
            "align_items": null,
            "align_self": null,
            "border": null,
            "bottom": null,
            "display": null,
            "flex": null,
            "flex_flow": null,
            "grid_area": null,
            "grid_auto_columns": null,
            "grid_auto_flow": null,
            "grid_auto_rows": null,
            "grid_column": null,
            "grid_gap": null,
            "grid_row": null,
            "grid_template_areas": null,
            "grid_template_columns": null,
            "grid_template_rows": null,
            "height": null,
            "justify_content": null,
            "justify_items": null,
            "left": null,
            "margin": null,
            "max_height": null,
            "max_width": null,
            "min_height": null,
            "min_width": null,
            "object_fit": null,
            "object_position": null,
            "order": null,
            "overflow": null,
            "overflow_x": null,
            "overflow_y": null,
            "padding": null,
            "right": null,
            "top": null,
            "visibility": null,
            "width": null
          }
        },
        "6730b6bfde054ea7896369fbe7f117a7": {
          "model_module": "@jupyter-widgets/controls",
          "model_name": "DescriptionStyleModel",
          "model_module_version": "1.5.0",
          "state": {
            "_model_module": "@jupyter-widgets/controls",
            "_model_module_version": "1.5.0",
            "_model_name": "DescriptionStyleModel",
            "_view_count": null,
            "_view_module": "@jupyter-widgets/base",
            "_view_module_version": "1.2.0",
            "_view_name": "StyleView",
            "description_width": ""
          }
        }
      }
    }
  },
  "nbformat": 4,
  "nbformat_minor": 5
}